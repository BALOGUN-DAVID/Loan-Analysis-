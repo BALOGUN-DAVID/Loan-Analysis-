{
 "cells": [
  {
   "cell_type": "raw",
   "id": "b1dcbb4f",
   "metadata": {},
   "source": [
    "The loan data project in Python using Jupyter Notebook involves analyzing a dataset containing information about loans. The dataset includes various attributes such as Loan ID, Customer ID, Loan Status, Current Loan Amount, Term, Credit Score, Annual Income, Years in current job, Home Ownership, Purpose, Monthly Debt, Years of Credit History, Months since last delinquent, Number of Open Accounts, Number of Credit Problems, Current Credit Balance, Maximum Open Credit, Bankruptcies, and Tax Liens.\n",
    "\n",
    "The project aims to perform data analysis and gain insights from the loan dataset. It involves loading the dataset into a Jupyter Notebook, performing data cleaning and preprocessing, and then analyzing the data to answer specific questions or gain a better understanding of the loan portfolio.\n",
    "\n",
    "The analysis may involve tasks such as:\n",
    "\n",
    "Checking the distribution of loan statuses to understand the overall loan repayment rate.\n",
    "Examining the distribution of loan amounts and identifying any outliers or unusual patterns.\n",
    "Analyzing the credit scores and their impact on loan approvals or defaults.\n",
    "Investigating the relationship between annual income and loan approval status.\n",
    "Exploring the purpose of loans and identifying the most common reasons for borrowing.\n",
    "Calculating summary statistics for attributes like monthly debt, years of credit history, and number of open accounts.\n",
    "Identifying any missing values or inconsistencies in the dataset and handling them appropriately.\n",
    "Visualizing the data using plots and charts to better understand the relationships and patterns.\n",
    "By performing these data analysis tasks, the project aims to provide valuable insights into the loan portfolio, identify potential risks or opportunities, and support decision-making processes related to lending and risk managemen"
   ]
  },
  {
   "cell_type": "code",
   "execution_count": 1,
   "id": "bfd5003c",
   "metadata": {},
   "outputs": [],
   "source": [
    "import pandas as pd\n",
    "import numpy as np\n",
    "import matplotlib.pyplot as plt\n",
    "%matplotlib inline\n",
    "import warnings\n",
    "warnings.filterwarnings(\"ignore\")\n",
    "import seaborn as sns\n",
    "import os"
   ]
  },
  {
   "cell_type": "code",
   "execution_count": 3,
   "id": "1131d35e",
   "metadata": {},
   "outputs": [
    {
     "data": {
      "text/html": [
       "<div>\n",
       "<style scoped>\n",
       "    .dataframe tbody tr th:only-of-type {\n",
       "        vertical-align: middle;\n",
       "    }\n",
       "\n",
       "    .dataframe tbody tr th {\n",
       "        vertical-align: top;\n",
       "    }\n",
       "\n",
       "    .dataframe thead th {\n",
       "        text-align: right;\n",
       "    }\n",
       "</style>\n",
       "<table border=\"1\" class=\"dataframe\">\n",
       "  <thead>\n",
       "    <tr style=\"text-align: right;\">\n",
       "      <th></th>\n",
       "      <th>Loan ID</th>\n",
       "      <th>Customer ID</th>\n",
       "      <th>Loan Status</th>\n",
       "      <th>Current Loan Amount</th>\n",
       "      <th>Term</th>\n",
       "      <th>Credit Score</th>\n",
       "      <th>Annual Income</th>\n",
       "      <th>Years in current job</th>\n",
       "      <th>Home Ownership</th>\n",
       "      <th>Purpose</th>\n",
       "      <th>Monthly Debt</th>\n",
       "      <th>Years of Credit History</th>\n",
       "      <th>Months since last delinquent</th>\n",
       "      <th>Number of Open Accounts</th>\n",
       "      <th>Number of Credit Problems</th>\n",
       "      <th>Current Credit Balance</th>\n",
       "      <th>Maximum Open Credit</th>\n",
       "      <th>Bankruptcies</th>\n",
       "      <th>Tax Liens</th>\n",
       "    </tr>\n",
       "  </thead>\n",
       "  <tbody>\n",
       "    <tr>\n",
       "      <th>0</th>\n",
       "      <td>14dd8831-6af5-400b-83ec-68e61888a048</td>\n",
       "      <td>981165ec-3274-42f5-a3b4-d104041a9ca9</td>\n",
       "      <td>Fully Paid</td>\n",
       "      <td>445412.0</td>\n",
       "      <td>Short Term</td>\n",
       "      <td>709.0</td>\n",
       "      <td>1167493.0</td>\n",
       "      <td>8 years</td>\n",
       "      <td>Home Mortgage</td>\n",
       "      <td>Home Improvements</td>\n",
       "      <td>5214.74</td>\n",
       "      <td>17.2</td>\n",
       "      <td>NaN</td>\n",
       "      <td>6.0</td>\n",
       "      <td>1.0</td>\n",
       "      <td>228190.0</td>\n",
       "      <td>416746.0</td>\n",
       "      <td>1.0</td>\n",
       "      <td>0.0</td>\n",
       "    </tr>\n",
       "    <tr>\n",
       "      <th>1</th>\n",
       "      <td>4771cc26-131a-45db-b5aa-537ea4ba5342</td>\n",
       "      <td>2de017a3-2e01-49cb-a581-08169e83be29</td>\n",
       "      <td>Fully Paid</td>\n",
       "      <td>262328.0</td>\n",
       "      <td>Short Term</td>\n",
       "      <td>NaN</td>\n",
       "      <td>NaN</td>\n",
       "      <td>10+ years</td>\n",
       "      <td>Home Mortgage</td>\n",
       "      <td>Debt Consolidation</td>\n",
       "      <td>33295.98</td>\n",
       "      <td>21.1</td>\n",
       "      <td>8.0</td>\n",
       "      <td>35.0</td>\n",
       "      <td>0.0</td>\n",
       "      <td>229976.0</td>\n",
       "      <td>850784.0</td>\n",
       "      <td>0.0</td>\n",
       "      <td>0.0</td>\n",
       "    </tr>\n",
       "    <tr>\n",
       "      <th>2</th>\n",
       "      <td>4eed4e6a-aa2f-4c91-8651-ce984ee8fb26</td>\n",
       "      <td>5efb2b2b-bf11-4dfd-a572-3761a2694725</td>\n",
       "      <td>Fully Paid</td>\n",
       "      <td>99999999.0</td>\n",
       "      <td>Short Term</td>\n",
       "      <td>741.0</td>\n",
       "      <td>2231892.0</td>\n",
       "      <td>8 years</td>\n",
       "      <td>Own Home</td>\n",
       "      <td>Debt Consolidation</td>\n",
       "      <td>29200.53</td>\n",
       "      <td>14.9</td>\n",
       "      <td>29.0</td>\n",
       "      <td>18.0</td>\n",
       "      <td>1.0</td>\n",
       "      <td>297996.0</td>\n",
       "      <td>750090.0</td>\n",
       "      <td>0.0</td>\n",
       "      <td>0.0</td>\n",
       "    </tr>\n",
       "    <tr>\n",
       "      <th>3</th>\n",
       "      <td>77598f7b-32e7-4e3b-a6e5-06ba0d98fe8a</td>\n",
       "      <td>e777faab-98ae-45af-9a86-7ce5b33b1011</td>\n",
       "      <td>Fully Paid</td>\n",
       "      <td>347666.0</td>\n",
       "      <td>Long Term</td>\n",
       "      <td>721.0</td>\n",
       "      <td>806949.0</td>\n",
       "      <td>3 years</td>\n",
       "      <td>Own Home</td>\n",
       "      <td>Debt Consolidation</td>\n",
       "      <td>8741.90</td>\n",
       "      <td>12.0</td>\n",
       "      <td>NaN</td>\n",
       "      <td>9.0</td>\n",
       "      <td>0.0</td>\n",
       "      <td>256329.0</td>\n",
       "      <td>386958.0</td>\n",
       "      <td>0.0</td>\n",
       "      <td>0.0</td>\n",
       "    </tr>\n",
       "    <tr>\n",
       "      <th>4</th>\n",
       "      <td>d4062e70-befa-4995-8643-a0de73938182</td>\n",
       "      <td>81536ad9-5ccf-4eb8-befb-47a4d608658e</td>\n",
       "      <td>Fully Paid</td>\n",
       "      <td>176220.0</td>\n",
       "      <td>Short Term</td>\n",
       "      <td>NaN</td>\n",
       "      <td>NaN</td>\n",
       "      <td>5 years</td>\n",
       "      <td>Rent</td>\n",
       "      <td>Debt Consolidation</td>\n",
       "      <td>20639.70</td>\n",
       "      <td>6.1</td>\n",
       "      <td>NaN</td>\n",
       "      <td>15.0</td>\n",
       "      <td>0.0</td>\n",
       "      <td>253460.0</td>\n",
       "      <td>427174.0</td>\n",
       "      <td>0.0</td>\n",
       "      <td>0.0</td>\n",
       "    </tr>\n",
       "    <tr>\n",
       "      <th>5</th>\n",
       "      <td>89d8cb0c-e5c2-4f54-b056-48a645c543dd</td>\n",
       "      <td>4ffe99d3-7f2a-44db-afc1-40943f1f9750</td>\n",
       "      <td>Charged Off</td>\n",
       "      <td>206602.0</td>\n",
       "      <td>Short Term</td>\n",
       "      <td>7290.0</td>\n",
       "      <td>896857.0</td>\n",
       "      <td>10+ years</td>\n",
       "      <td>Home Mortgage</td>\n",
       "      <td>Debt Consolidation</td>\n",
       "      <td>16367.74</td>\n",
       "      <td>17.3</td>\n",
       "      <td>NaN</td>\n",
       "      <td>6.0</td>\n",
       "      <td>0.0</td>\n",
       "      <td>215308.0</td>\n",
       "      <td>272448.0</td>\n",
       "      <td>0.0</td>\n",
       "      <td>0.0</td>\n",
       "    </tr>\n",
       "    <tr>\n",
       "      <th>6</th>\n",
       "      <td>273581de-85d8-4332-81a5-19b04ce68666</td>\n",
       "      <td>90a75dde-34d5-419c-90dc-1e58b04b3e35</td>\n",
       "      <td>Fully Paid</td>\n",
       "      <td>217646.0</td>\n",
       "      <td>Short Term</td>\n",
       "      <td>730.0</td>\n",
       "      <td>1184194.0</td>\n",
       "      <td>&lt; 1 year</td>\n",
       "      <td>Home Mortgage</td>\n",
       "      <td>Debt Consolidation</td>\n",
       "      <td>10855.08</td>\n",
       "      <td>19.6</td>\n",
       "      <td>10.0</td>\n",
       "      <td>13.0</td>\n",
       "      <td>1.0</td>\n",
       "      <td>122170.0</td>\n",
       "      <td>272052.0</td>\n",
       "      <td>1.0</td>\n",
       "      <td>0.0</td>\n",
       "    </tr>\n",
       "    <tr>\n",
       "      <th>7</th>\n",
       "      <td>db0dc6e1-77ee-4826-acca-772f9039e1c7</td>\n",
       "      <td>018973c9-e316-4956-b363-67e134fb0931</td>\n",
       "      <td>Charged Off</td>\n",
       "      <td>648714.0</td>\n",
       "      <td>Long Term</td>\n",
       "      <td>NaN</td>\n",
       "      <td>NaN</td>\n",
       "      <td>&lt; 1 year</td>\n",
       "      <td>Home Mortgage</td>\n",
       "      <td>Buy House</td>\n",
       "      <td>14806.13</td>\n",
       "      <td>8.2</td>\n",
       "      <td>8.0</td>\n",
       "      <td>15.0</td>\n",
       "      <td>0.0</td>\n",
       "      <td>193306.0</td>\n",
       "      <td>864204.0</td>\n",
       "      <td>0.0</td>\n",
       "      <td>0.0</td>\n",
       "    </tr>\n",
       "    <tr>\n",
       "      <th>8</th>\n",
       "      <td>8af915d9-9e91-44a0-b5a2-564a45c12089</td>\n",
       "      <td>af534dea-d27e-4fd6-9de8-efaa52a78ec0</td>\n",
       "      <td>Fully Paid</td>\n",
       "      <td>548746.0</td>\n",
       "      <td>Short Term</td>\n",
       "      <td>678.0</td>\n",
       "      <td>2559110.0</td>\n",
       "      <td>2 years</td>\n",
       "      <td>Rent</td>\n",
       "      <td>Debt Consolidation</td>\n",
       "      <td>18660.28</td>\n",
       "      <td>22.6</td>\n",
       "      <td>33.0</td>\n",
       "      <td>4.0</td>\n",
       "      <td>0.0</td>\n",
       "      <td>437171.0</td>\n",
       "      <td>555038.0</td>\n",
       "      <td>0.0</td>\n",
       "      <td>0.0</td>\n",
       "    </tr>\n",
       "    <tr>\n",
       "      <th>9</th>\n",
       "      <td>0b1c4e3d-bd97-45ce-9622-22732fcdc9a0</td>\n",
       "      <td>235c4a43-dadf-483d-aa44-9d6d77ae4583</td>\n",
       "      <td>Fully Paid</td>\n",
       "      <td>215952.0</td>\n",
       "      <td>Short Term</td>\n",
       "      <td>739.0</td>\n",
       "      <td>1454735.0</td>\n",
       "      <td>&lt; 1 year</td>\n",
       "      <td>Rent</td>\n",
       "      <td>Debt Consolidation</td>\n",
       "      <td>39277.75</td>\n",
       "      <td>13.9</td>\n",
       "      <td>NaN</td>\n",
       "      <td>20.0</td>\n",
       "      <td>0.0</td>\n",
       "      <td>669560.0</td>\n",
       "      <td>1021460.0</td>\n",
       "      <td>0.0</td>\n",
       "      <td>0.0</td>\n",
       "    </tr>\n",
       "  </tbody>\n",
       "</table>\n",
       "</div>"
      ],
      "text/plain": [
       "                                Loan ID                           Customer ID  \\\n",
       "0  14dd8831-6af5-400b-83ec-68e61888a048  981165ec-3274-42f5-a3b4-d104041a9ca9   \n",
       "1  4771cc26-131a-45db-b5aa-537ea4ba5342  2de017a3-2e01-49cb-a581-08169e83be29   \n",
       "2  4eed4e6a-aa2f-4c91-8651-ce984ee8fb26  5efb2b2b-bf11-4dfd-a572-3761a2694725   \n",
       "3  77598f7b-32e7-4e3b-a6e5-06ba0d98fe8a  e777faab-98ae-45af-9a86-7ce5b33b1011   \n",
       "4  d4062e70-befa-4995-8643-a0de73938182  81536ad9-5ccf-4eb8-befb-47a4d608658e   \n",
       "5  89d8cb0c-e5c2-4f54-b056-48a645c543dd  4ffe99d3-7f2a-44db-afc1-40943f1f9750   \n",
       "6  273581de-85d8-4332-81a5-19b04ce68666  90a75dde-34d5-419c-90dc-1e58b04b3e35   \n",
       "7  db0dc6e1-77ee-4826-acca-772f9039e1c7  018973c9-e316-4956-b363-67e134fb0931   \n",
       "8  8af915d9-9e91-44a0-b5a2-564a45c12089  af534dea-d27e-4fd6-9de8-efaa52a78ec0   \n",
       "9  0b1c4e3d-bd97-45ce-9622-22732fcdc9a0  235c4a43-dadf-483d-aa44-9d6d77ae4583   \n",
       "\n",
       "   Loan Status  Current Loan Amount        Term  Credit Score  Annual Income  \\\n",
       "0   Fully Paid             445412.0  Short Term         709.0      1167493.0   \n",
       "1   Fully Paid             262328.0  Short Term           NaN            NaN   \n",
       "2   Fully Paid           99999999.0  Short Term         741.0      2231892.0   \n",
       "3   Fully Paid             347666.0   Long Term         721.0       806949.0   \n",
       "4   Fully Paid             176220.0  Short Term           NaN            NaN   \n",
       "5  Charged Off             206602.0  Short Term        7290.0       896857.0   \n",
       "6   Fully Paid             217646.0  Short Term         730.0      1184194.0   \n",
       "7  Charged Off             648714.0   Long Term           NaN            NaN   \n",
       "8   Fully Paid             548746.0  Short Term         678.0      2559110.0   \n",
       "9   Fully Paid             215952.0  Short Term         739.0      1454735.0   \n",
       "\n",
       "  Years in current job Home Ownership             Purpose  Monthly Debt  \\\n",
       "0              8 years  Home Mortgage   Home Improvements       5214.74   \n",
       "1            10+ years  Home Mortgage  Debt Consolidation      33295.98   \n",
       "2              8 years       Own Home  Debt Consolidation      29200.53   \n",
       "3              3 years       Own Home  Debt Consolidation       8741.90   \n",
       "4              5 years           Rent  Debt Consolidation      20639.70   \n",
       "5            10+ years  Home Mortgage  Debt Consolidation      16367.74   \n",
       "6             < 1 year  Home Mortgage  Debt Consolidation      10855.08   \n",
       "7             < 1 year  Home Mortgage           Buy House      14806.13   \n",
       "8              2 years           Rent  Debt Consolidation      18660.28   \n",
       "9             < 1 year           Rent  Debt Consolidation      39277.75   \n",
       "\n",
       "   Years of Credit History  Months since last delinquent  \\\n",
       "0                     17.2                           NaN   \n",
       "1                     21.1                           8.0   \n",
       "2                     14.9                          29.0   \n",
       "3                     12.0                           NaN   \n",
       "4                      6.1                           NaN   \n",
       "5                     17.3                           NaN   \n",
       "6                     19.6                          10.0   \n",
       "7                      8.2                           8.0   \n",
       "8                     22.6                          33.0   \n",
       "9                     13.9                           NaN   \n",
       "\n",
       "   Number of Open Accounts  Number of Credit Problems  Current Credit Balance  \\\n",
       "0                      6.0                        1.0                228190.0   \n",
       "1                     35.0                        0.0                229976.0   \n",
       "2                     18.0                        1.0                297996.0   \n",
       "3                      9.0                        0.0                256329.0   \n",
       "4                     15.0                        0.0                253460.0   \n",
       "5                      6.0                        0.0                215308.0   \n",
       "6                     13.0                        1.0                122170.0   \n",
       "7                     15.0                        0.0                193306.0   \n",
       "8                      4.0                        0.0                437171.0   \n",
       "9                     20.0                        0.0                669560.0   \n",
       "\n",
       "   Maximum Open Credit  Bankruptcies  Tax Liens  \n",
       "0             416746.0           1.0        0.0  \n",
       "1             850784.0           0.0        0.0  \n",
       "2             750090.0           0.0        0.0  \n",
       "3             386958.0           0.0        0.0  \n",
       "4             427174.0           0.0        0.0  \n",
       "5             272448.0           0.0        0.0  \n",
       "6             272052.0           1.0        0.0  \n",
       "7             864204.0           0.0        0.0  \n",
       "8             555038.0           0.0        0.0  \n",
       "9            1021460.0           0.0        0.0  "
      ]
     },
     "execution_count": 3,
     "metadata": {},
     "output_type": "execute_result"
    }
   ],
   "source": [
    "credit= pd.read_csv(\"credit_train.csv\")\n",
    "credit.head(10)"
   ]
  },
  {
   "cell_type": "markdown",
   "id": "bacb4ce3",
   "metadata": {},
   "source": [
    "# EXPLORATORY DATA ANALYSIS  EDA "
   ]
  },
  {
   "cell_type": "code",
   "execution_count": 4,
   "id": "b410fb2d",
   "metadata": {
    "scrolled": true
   },
   "outputs": [
    {
     "data": {
      "text/plain": [
       "10728"
      ]
     },
     "execution_count": 4,
     "metadata": {},
     "output_type": "execute_result"
    }
   ],
   "source": [
    "#checking for the count of duplicate value\n",
    "credit.duplicated().sum()"
   ]
  },
  {
   "cell_type": "code",
   "execution_count": 5,
   "id": "fdd4b94b",
   "metadata": {},
   "outputs": [
    {
     "data": {
      "text/plain": [
       "(89786, 19)"
      ]
     },
     "execution_count": 5,
     "metadata": {},
     "output_type": "execute_result"
    }
   ],
   "source": [
    "#removing duplicate rows for the dataframe and also cheking for the new dimension of the data frame after dropping duplicate  \n",
    "credit.drop_duplicates(inplace = True)\n",
    "credit.shape"
   ]
  },
  {
   "cell_type": "code",
   "execution_count": 6,
   "id": "0d3b1104",
   "metadata": {
    "scrolled": true
   },
   "outputs": [
    {
     "data": {
      "text/html": [
       "<div>\n",
       "<style scoped>\n",
       "    .dataframe tbody tr th:only-of-type {\n",
       "        vertical-align: middle;\n",
       "    }\n",
       "\n",
       "    .dataframe tbody tr th {\n",
       "        vertical-align: top;\n",
       "    }\n",
       "\n",
       "    .dataframe thead th {\n",
       "        text-align: right;\n",
       "    }\n",
       "</style>\n",
       "<table border=\"1\" class=\"dataframe\">\n",
       "  <thead>\n",
       "    <tr style=\"text-align: right;\">\n",
       "      <th></th>\n",
       "      <th>Current Loan Amount</th>\n",
       "      <th>Credit Score</th>\n",
       "      <th>Annual Income</th>\n",
       "      <th>Monthly Debt</th>\n",
       "      <th>Years of Credit History</th>\n",
       "      <th>Months since last delinquent</th>\n",
       "      <th>Number of Open Accounts</th>\n",
       "      <th>Number of Credit Problems</th>\n",
       "      <th>Current Credit Balance</th>\n",
       "      <th>Maximum Open Credit</th>\n",
       "      <th>Bankruptcies</th>\n",
       "      <th>Tax Liens</th>\n",
       "    </tr>\n",
       "  </thead>\n",
       "  <tbody>\n",
       "    <tr>\n",
       "      <th>count</th>\n",
       "      <td>8.978500e+04</td>\n",
       "      <td>70631.000000</td>\n",
       "      <td>7.063100e+04</td>\n",
       "      <td>89785.000000</td>\n",
       "      <td>89785.000000</td>\n",
       "      <td>41448.000000</td>\n",
       "      <td>89785.000000</td>\n",
       "      <td>89785.000000</td>\n",
       "      <td>8.978500e+04</td>\n",
       "      <td>8.978300e+04</td>\n",
       "      <td>89595.000000</td>\n",
       "      <td>89776.000000</td>\n",
       "    </tr>\n",
       "    <tr>\n",
       "      <th>mean</th>\n",
       "      <td>1.306089e+07</td>\n",
       "      <td>1130.830598</td>\n",
       "      <td>1.375894e+06</td>\n",
       "      <td>18396.906410</td>\n",
       "      <td>18.248642</td>\n",
       "      <td>34.975873</td>\n",
       "      <td>11.123250</td>\n",
       "      <td>0.164983</td>\n",
       "      <td>2.940351e+05</td>\n",
       "      <td>7.756565e+05</td>\n",
       "      <td>0.115531</td>\n",
       "      <td>0.028605</td>\n",
       "    </tr>\n",
       "    <tr>\n",
       "      <th>std</th>\n",
       "      <td>3.329556e+07</td>\n",
       "      <td>1571.037395</td>\n",
       "      <td>1.104852e+06</td>\n",
       "      <td>12145.282372</td>\n",
       "      <td>7.034607</td>\n",
       "      <td>22.008585</td>\n",
       "      <td>4.998884</td>\n",
       "      <td>0.478010</td>\n",
       "      <td>3.722277e+05</td>\n",
       "      <td>8.803517e+06</td>\n",
       "      <td>0.347919</td>\n",
       "      <td>0.255108</td>\n",
       "    </tr>\n",
       "    <tr>\n",
       "      <th>min</th>\n",
       "      <td>1.080200e+04</td>\n",
       "      <td>585.000000</td>\n",
       "      <td>7.662700e+04</td>\n",
       "      <td>0.000000</td>\n",
       "      <td>3.600000</td>\n",
       "      <td>0.000000</td>\n",
       "      <td>0.000000</td>\n",
       "      <td>0.000000</td>\n",
       "      <td>0.000000e+00</td>\n",
       "      <td>0.000000e+00</td>\n",
       "      <td>0.000000</td>\n",
       "      <td>0.000000</td>\n",
       "    </tr>\n",
       "    <tr>\n",
       "      <th>25%</th>\n",
       "      <td>1.802680e+05</td>\n",
       "      <td>708.000000</td>\n",
       "      <td>8.479320e+05</td>\n",
       "      <td>10157.400000</td>\n",
       "      <td>13.500000</td>\n",
       "      <td>16.000000</td>\n",
       "      <td>8.000000</td>\n",
       "      <td>0.000000</td>\n",
       "      <td>1.129360e+05</td>\n",
       "      <td>2.770680e+05</td>\n",
       "      <td>0.000000</td>\n",
       "      <td>0.000000</td>\n",
       "    </tr>\n",
       "    <tr>\n",
       "      <th>50%</th>\n",
       "      <td>3.138740e+05</td>\n",
       "      <td>729.000000</td>\n",
       "      <td>1.168975e+06</td>\n",
       "      <td>16140.310000</td>\n",
       "      <td>17.000000</td>\n",
       "      <td>32.000000</td>\n",
       "      <td>10.000000</td>\n",
       "      <td>0.000000</td>\n",
       "      <td>2.097220e+05</td>\n",
       "      <td>4.726920e+05</td>\n",
       "      <td>0.000000</td>\n",
       "      <td>0.000000</td>\n",
       "    </tr>\n",
       "    <tr>\n",
       "      <th>75%</th>\n",
       "      <td>5.323780e+05</td>\n",
       "      <td>742.000000</td>\n",
       "      <td>1.648915e+06</td>\n",
       "      <td>23918.910000</td>\n",
       "      <td>21.700000</td>\n",
       "      <td>51.000000</td>\n",
       "      <td>14.000000</td>\n",
       "      <td>0.000000</td>\n",
       "      <td>3.675170e+05</td>\n",
       "      <td>7.914500e+05</td>\n",
       "      <td>0.000000</td>\n",
       "      <td>0.000000</td>\n",
       "    </tr>\n",
       "    <tr>\n",
       "      <th>max</th>\n",
       "      <td>1.000000e+08</td>\n",
       "      <td>7510.000000</td>\n",
       "      <td>1.655574e+08</td>\n",
       "      <td>435843.280000</td>\n",
       "      <td>70.500000</td>\n",
       "      <td>176.000000</td>\n",
       "      <td>76.000000</td>\n",
       "      <td>15.000000</td>\n",
       "      <td>3.287897e+07</td>\n",
       "      <td>1.539738e+09</td>\n",
       "      <td>7.000000</td>\n",
       "      <td>15.000000</td>\n",
       "    </tr>\n",
       "  </tbody>\n",
       "</table>\n",
       "</div>"
      ],
      "text/plain": [
       "       Current Loan Amount  Credit Score  Annual Income   Monthly Debt  \\\n",
       "count         8.978500e+04  70631.000000   7.063100e+04   89785.000000   \n",
       "mean          1.306089e+07   1130.830598   1.375894e+06   18396.906410   \n",
       "std           3.329556e+07   1571.037395   1.104852e+06   12145.282372   \n",
       "min           1.080200e+04    585.000000   7.662700e+04       0.000000   \n",
       "25%           1.802680e+05    708.000000   8.479320e+05   10157.400000   \n",
       "50%           3.138740e+05    729.000000   1.168975e+06   16140.310000   \n",
       "75%           5.323780e+05    742.000000   1.648915e+06   23918.910000   \n",
       "max           1.000000e+08   7510.000000   1.655574e+08  435843.280000   \n",
       "\n",
       "       Years of Credit History  Months since last delinquent  \\\n",
       "count             89785.000000                  41448.000000   \n",
       "mean                 18.248642                     34.975873   \n",
       "std                   7.034607                     22.008585   \n",
       "min                   3.600000                      0.000000   \n",
       "25%                  13.500000                     16.000000   \n",
       "50%                  17.000000                     32.000000   \n",
       "75%                  21.700000                     51.000000   \n",
       "max                  70.500000                    176.000000   \n",
       "\n",
       "       Number of Open Accounts  Number of Credit Problems  \\\n",
       "count             89785.000000               89785.000000   \n",
       "mean                 11.123250                   0.164983   \n",
       "std                   4.998884                   0.478010   \n",
       "min                   0.000000                   0.000000   \n",
       "25%                   8.000000                   0.000000   \n",
       "50%                  10.000000                   0.000000   \n",
       "75%                  14.000000                   0.000000   \n",
       "max                  76.000000                  15.000000   \n",
       "\n",
       "       Current Credit Balance  Maximum Open Credit  Bankruptcies     Tax Liens  \n",
       "count            8.978500e+04         8.978300e+04  89595.000000  89776.000000  \n",
       "mean             2.940351e+05         7.756565e+05      0.115531      0.028605  \n",
       "std              3.722277e+05         8.803517e+06      0.347919      0.255108  \n",
       "min              0.000000e+00         0.000000e+00      0.000000      0.000000  \n",
       "25%              1.129360e+05         2.770680e+05      0.000000      0.000000  \n",
       "50%              2.097220e+05         4.726920e+05      0.000000      0.000000  \n",
       "75%              3.675170e+05         7.914500e+05      0.000000      0.000000  \n",
       "max              3.287897e+07         1.539738e+09      7.000000     15.000000  "
      ]
     },
     "execution_count": 6,
     "metadata": {},
     "output_type": "execute_result"
    }
   ],
   "source": [
    "#generating descriptive statistics of the dataframe\n",
    "credit.describe()"
   ]
  },
  {
   "cell_type": "code",
   "execution_count": 7,
   "id": "02ac9354",
   "metadata": {},
   "outputs": [
    {
     "data": {
      "text/plain": [
       "Loan ID                             1\n",
       "Customer ID                         1\n",
       "Loan Status                         1\n",
       "Current Loan Amount                 1\n",
       "Term                                1\n",
       "Credit Score                    19155\n",
       "Annual Income                   19155\n",
       "Years in current job             3803\n",
       "Home Ownership                      1\n",
       "Purpose                             1\n",
       "Monthly Debt                        1\n",
       "Years of Credit History             1\n",
       "Months since last delinquent    48338\n",
       "Number of Open Accounts             1\n",
       "Number of Credit Problems           1\n",
       "Current Credit Balance              1\n",
       "Maximum Open Credit                 3\n",
       "Bankruptcies                      191\n",
       "Tax Liens                          10\n",
       "dtype: int64"
      ]
     },
     "execution_count": 7,
     "metadata": {},
     "output_type": "execute_result"
    }
   ],
   "source": [
    "#checking the count of null values\n",
    "credit.isna().sum()"
   ]
  },
  {
   "cell_type": "code",
   "execution_count": 8,
   "id": "e5d2a844",
   "metadata": {
    "scrolled": true
   },
   "outputs": [
    {
     "data": {
      "text/plain": [
       "Index(['Loan ID', 'Customer ID', 'Loan Status', 'Current Loan Amount', 'Term',\n",
       "       'Credit Score', 'Annual Income', 'Years in current job',\n",
       "       'Home Ownership', 'Purpose', 'Monthly Debt', 'Years of Credit History',\n",
       "       'Months since last delinquent', 'Number of Open Accounts',\n",
       "       'Number of Credit Problems', 'Current Credit Balance',\n",
       "       'Maximum Open Credit', 'Bankruptcies', 'Tax Liens'],\n",
       "      dtype='object')"
      ]
     },
     "execution_count": 8,
     "metadata": {},
     "output_type": "execute_result"
    }
   ],
   "source": [
    "#observation of all the columns\n",
    "credit.columns"
   ]
  },
  {
   "cell_type": "code",
   "execution_count": 9,
   "id": "cf43370b",
   "metadata": {},
   "outputs": [
    {
     "data": {
      "text/plain": [
       "<bound method DataFrame.value_counts of                                      Loan ID  \\\n",
       "0       14dd8831-6af5-400b-83ec-68e61888a048   \n",
       "1       4771cc26-131a-45db-b5aa-537ea4ba5342   \n",
       "2       4eed4e6a-aa2f-4c91-8651-ce984ee8fb26   \n",
       "3       77598f7b-32e7-4e3b-a6e5-06ba0d98fe8a   \n",
       "4       d4062e70-befa-4995-8643-a0de73938182   \n",
       "...                                      ...   \n",
       "99996   06eba04f-58fc-424a-b666-ed72aa008900   \n",
       "99997   e1cb4050-eff5-4bdb-a1b0-aabd3f7eaac7   \n",
       "99998   81ab928b-d1a5-4523-9a3c-271ebb01b4fb   \n",
       "99999   c63916c6-6d46-47a9-949a-51d09af4414f   \n",
       "100000                                   NaN   \n",
       "\n",
       "                                 Customer ID Loan Status  Current Loan Amount  \\\n",
       "0       981165ec-3274-42f5-a3b4-d104041a9ca9  Fully Paid             445412.0   \n",
       "1       2de017a3-2e01-49cb-a581-08169e83be29  Fully Paid             262328.0   \n",
       "2       5efb2b2b-bf11-4dfd-a572-3761a2694725  Fully Paid           99999999.0   \n",
       "3       e777faab-98ae-45af-9a86-7ce5b33b1011  Fully Paid             347666.0   \n",
       "4       81536ad9-5ccf-4eb8-befb-47a4d608658e  Fully Paid             176220.0   \n",
       "...                                      ...         ...                  ...   \n",
       "99996   77f2252a-b7d1-4b07-a746-1202a8304290  Fully Paid           99999999.0   \n",
       "99997   2ced5f10-bd60-4a11-9134-cadce4e7b0a3  Fully Paid             103136.0   \n",
       "99998   3e45ffda-99fd-4cfc-b8b8-446f4a505f36  Fully Paid             530332.0   \n",
       "99999   1b3014be-5c07-4d41-abe7-44573c375886  Fully Paid           99999999.0   \n",
       "100000                                   NaN         NaN                  NaN   \n",
       "\n",
       "              Term  Credit Score  Annual Income Years in current job  \\\n",
       "0       Short Term         709.0      1167493.0              8 years   \n",
       "1       Short Term           NaN            NaN            10+ years   \n",
       "2       Short Term         741.0      2231892.0              8 years   \n",
       "3        Long Term         721.0       806949.0              3 years   \n",
       "4       Short Term           NaN            NaN              5 years   \n",
       "...            ...           ...            ...                  ...   \n",
       "99996   Short Term         732.0      1289416.0               1 year   \n",
       "99997   Short Term         742.0      1150545.0              6 years   \n",
       "99998   Short Term         746.0      1717524.0              9 years   \n",
       "99999   Short Term         743.0       935180.0                  NaN   \n",
       "100000         NaN           NaN            NaN                  NaN   \n",
       "\n",
       "       Home Ownership             Purpose  Monthly Debt  \\\n",
       "0       Home Mortgage   Home Improvements       5214.74   \n",
       "1       Home Mortgage  Debt Consolidation      33295.98   \n",
       "2            Own Home  Debt Consolidation      29200.53   \n",
       "3            Own Home  Debt Consolidation       8741.90   \n",
       "4                Rent  Debt Consolidation      20639.70   \n",
       "...               ...                 ...           ...   \n",
       "99996            Rent  Debt Consolidation      13109.05   \n",
       "99997            Rent  Debt Consolidation       7315.57   \n",
       "99998            Rent  Debt Consolidation       9890.07   \n",
       "99999        Own Home  Debt Consolidation       9118.10   \n",
       "100000            NaN                 NaN           NaN   \n",
       "\n",
       "        Years of Credit History  Months since last delinquent  \\\n",
       "0                          17.2                           NaN   \n",
       "1                          21.1                           8.0   \n",
       "2                          14.9                          29.0   \n",
       "3                          12.0                           NaN   \n",
       "4                           6.1                           NaN   \n",
       "...                         ...                           ...   \n",
       "99996                       9.4                          21.0   \n",
       "99997                      18.8                          18.0   \n",
       "99998                      15.0                           NaN   \n",
       "99999                      13.0                           NaN   \n",
       "100000                      NaN                           NaN   \n",
       "\n",
       "        Number of Open Accounts  Number of Credit Problems  \\\n",
       "0                           6.0                        1.0   \n",
       "1                          35.0                        0.0   \n",
       "2                          18.0                        1.0   \n",
       "3                           9.0                        0.0   \n",
       "4                          15.0                        0.0   \n",
       "...                         ...                        ...   \n",
       "99996                      22.0                        0.0   \n",
       "99997                      12.0                        1.0   \n",
       "99998                       8.0                        0.0   \n",
       "99999                       4.0                        1.0   \n",
       "100000                      NaN                        NaN   \n",
       "\n",
       "        Current Credit Balance  Maximum Open Credit  Bankruptcies  Tax Liens  \n",
       "0                     228190.0             416746.0           1.0        0.0  \n",
       "1                     229976.0             850784.0           0.0        0.0  \n",
       "2                     297996.0             750090.0           0.0        0.0  \n",
       "3                     256329.0             386958.0           0.0        0.0  \n",
       "4                     253460.0             427174.0           0.0        0.0  \n",
       "...                        ...                  ...           ...        ...  \n",
       "99996                 153045.0             509234.0           0.0        0.0  \n",
       "99997                 109554.0             537548.0           1.0        0.0  \n",
       "99998                 404225.0             738254.0           0.0        0.0  \n",
       "99999                  45600.0              91014.0           1.0        0.0  \n",
       "100000                     NaN                  NaN           NaN        NaN  \n",
       "\n",
       "[89786 rows x 19 columns]>"
      ]
     },
     "execution_count": 9,
     "metadata": {},
     "output_type": "execute_result"
    }
   ],
   "source": [
    "#checking through for unique occurrences\n",
    "credit.value_counts"
   ]
  },
  {
   "cell_type": "code",
   "execution_count": 10,
   "id": "faf92d84",
   "metadata": {},
   "outputs": [
    {
     "data": {
      "text/plain": [
       "(89786, 19)"
      ]
     },
     "execution_count": 10,
     "metadata": {},
     "output_type": "execute_result"
    }
   ],
   "source": [
    "#recheking for the size of the dataframe\n",
    "credit.shape"
   ]
  },
  {
   "cell_type": "code",
   "execution_count": 11,
   "id": "88c427a3",
   "metadata": {},
   "outputs": [
    {
     "data": {
      "text/html": [
       "<div>\n",
       "<style scoped>\n",
       "    .dataframe tbody tr th:only-of-type {\n",
       "        vertical-align: middle;\n",
       "    }\n",
       "\n",
       "    .dataframe tbody tr th {\n",
       "        vertical-align: top;\n",
       "    }\n",
       "\n",
       "    .dataframe thead th {\n",
       "        text-align: right;\n",
       "    }\n",
       "</style>\n",
       "<table border=\"1\" class=\"dataframe\">\n",
       "  <thead>\n",
       "    <tr style=\"text-align: right;\">\n",
       "      <th></th>\n",
       "      <th>column</th>\n",
       "      <th>dtypes</th>\n",
       "      <th>nunique</th>\n",
       "      <th>sum_null</th>\n",
       "    </tr>\n",
       "  </thead>\n",
       "  <tbody>\n",
       "    <tr>\n",
       "      <th>0</th>\n",
       "      <td>Loan ID</td>\n",
       "      <td>object</td>\n",
       "      <td>81999</td>\n",
       "      <td>1</td>\n",
       "    </tr>\n",
       "    <tr>\n",
       "      <th>1</th>\n",
       "      <td>Customer ID</td>\n",
       "      <td>object</td>\n",
       "      <td>81999</td>\n",
       "      <td>1</td>\n",
       "    </tr>\n",
       "    <tr>\n",
       "      <th>2</th>\n",
       "      <td>Loan Status</td>\n",
       "      <td>object</td>\n",
       "      <td>2</td>\n",
       "      <td>1</td>\n",
       "    </tr>\n",
       "    <tr>\n",
       "      <th>3</th>\n",
       "      <td>Current Loan Amount</td>\n",
       "      <td>float64</td>\n",
       "      <td>22004</td>\n",
       "      <td>1</td>\n",
       "    </tr>\n",
       "    <tr>\n",
       "      <th>4</th>\n",
       "      <td>Term</td>\n",
       "      <td>object</td>\n",
       "      <td>2</td>\n",
       "      <td>1</td>\n",
       "    </tr>\n",
       "    <tr>\n",
       "      <th>5</th>\n",
       "      <td>Credit Score</td>\n",
       "      <td>float64</td>\n",
       "      <td>324</td>\n",
       "      <td>19155</td>\n",
       "    </tr>\n",
       "    <tr>\n",
       "      <th>6</th>\n",
       "      <td>Annual Income</td>\n",
       "      <td>float64</td>\n",
       "      <td>36174</td>\n",
       "      <td>19155</td>\n",
       "    </tr>\n",
       "    <tr>\n",
       "      <th>7</th>\n",
       "      <td>Years in current job</td>\n",
       "      <td>object</td>\n",
       "      <td>11</td>\n",
       "      <td>3803</td>\n",
       "    </tr>\n",
       "    <tr>\n",
       "      <th>8</th>\n",
       "      <td>Home Ownership</td>\n",
       "      <td>object</td>\n",
       "      <td>4</td>\n",
       "      <td>1</td>\n",
       "    </tr>\n",
       "    <tr>\n",
       "      <th>9</th>\n",
       "      <td>Purpose</td>\n",
       "      <td>object</td>\n",
       "      <td>16</td>\n",
       "      <td>1</td>\n",
       "    </tr>\n",
       "    <tr>\n",
       "      <th>10</th>\n",
       "      <td>Monthly Debt</td>\n",
       "      <td>float64</td>\n",
       "      <td>65765</td>\n",
       "      <td>1</td>\n",
       "    </tr>\n",
       "    <tr>\n",
       "      <th>11</th>\n",
       "      <td>Years of Credit History</td>\n",
       "      <td>float64</td>\n",
       "      <td>506</td>\n",
       "      <td>1</td>\n",
       "    </tr>\n",
       "    <tr>\n",
       "      <th>12</th>\n",
       "      <td>Months since last delinquent</td>\n",
       "      <td>float64</td>\n",
       "      <td>116</td>\n",
       "      <td>48338</td>\n",
       "    </tr>\n",
       "    <tr>\n",
       "      <th>13</th>\n",
       "      <td>Number of Open Accounts</td>\n",
       "      <td>float64</td>\n",
       "      <td>51</td>\n",
       "      <td>1</td>\n",
       "    </tr>\n",
       "    <tr>\n",
       "      <th>14</th>\n",
       "      <td>Number of Credit Problems</td>\n",
       "      <td>float64</td>\n",
       "      <td>14</td>\n",
       "      <td>1</td>\n",
       "    </tr>\n",
       "    <tr>\n",
       "      <th>15</th>\n",
       "      <td>Current Credit Balance</td>\n",
       "      <td>float64</td>\n",
       "      <td>32730</td>\n",
       "      <td>1</td>\n",
       "    </tr>\n",
       "    <tr>\n",
       "      <th>16</th>\n",
       "      <td>Maximum Open Credit</td>\n",
       "      <td>float64</td>\n",
       "      <td>44596</td>\n",
       "      <td>3</td>\n",
       "    </tr>\n",
       "    <tr>\n",
       "      <th>17</th>\n",
       "      <td>Bankruptcies</td>\n",
       "      <td>float64</td>\n",
       "      <td>8</td>\n",
       "      <td>191</td>\n",
       "    </tr>\n",
       "    <tr>\n",
       "      <th>18</th>\n",
       "      <td>Tax Liens</td>\n",
       "      <td>float64</td>\n",
       "      <td>12</td>\n",
       "      <td>10</td>\n",
       "    </tr>\n",
       "  </tbody>\n",
       "</table>\n",
       "</div>"
      ],
      "text/plain": [
       "                          column   dtypes  nunique  sum_null\n",
       "0                        Loan ID   object    81999         1\n",
       "1                    Customer ID   object    81999         1\n",
       "2                    Loan Status   object        2         1\n",
       "3            Current Loan Amount  float64    22004         1\n",
       "4                           Term   object        2         1\n",
       "5                   Credit Score  float64      324     19155\n",
       "6                  Annual Income  float64    36174     19155\n",
       "7           Years in current job   object       11      3803\n",
       "8                 Home Ownership   object        4         1\n",
       "9                        Purpose   object       16         1\n",
       "10                  Monthly Debt  float64    65765         1\n",
       "11       Years of Credit History  float64      506         1\n",
       "12  Months since last delinquent  float64      116     48338\n",
       "13       Number of Open Accounts  float64       51         1\n",
       "14     Number of Credit Problems  float64       14         1\n",
       "15        Current Credit Balance  float64    32730         1\n",
       "16           Maximum Open Credit  float64    44596         3\n",
       "17                  Bankruptcies  float64        8       191\n",
       "18                     Tax Liens  float64       12        10"
      ]
     },
     "execution_count": 11,
     "metadata": {},
     "output_type": "execute_result"
    }
   ],
   "source": [
    "# Summary to all colums \n",
    "def check(df):\n",
    "    l=[]\n",
    "    columns=df.columns\n",
    "    for col in columns:\n",
    "        dtypes=df[col].dtypes\n",
    "        nunique=df[col].nunique()\n",
    "        sum_null=df[col].isnull().sum()\n",
    "        l.append([col,dtypes,nunique,sum_null])\n",
    "    df_check=pd.DataFrame(l)\n",
    "    df_check.columns=['column','dtypes','nunique','sum_null']\n",
    "    return df_check \n",
    "check(credit)"
   ]
  },
  {
   "cell_type": "code",
   "execution_count": 12,
   "id": "37846847",
   "metadata": {},
   "outputs": [
    {
     "name": "stdout",
     "output_type": "stream",
     "text": [
      "<class 'pandas.core.frame.DataFrame'>\n",
      "Int64Index: 89786 entries, 0 to 100000\n",
      "Data columns (total 19 columns):\n",
      " #   Column                        Non-Null Count  Dtype  \n",
      "---  ------                        --------------  -----  \n",
      " 0   Loan ID                       89785 non-null  object \n",
      " 1   Customer ID                   89785 non-null  object \n",
      " 2   Loan Status                   89785 non-null  object \n",
      " 3   Current Loan Amount           89785 non-null  float64\n",
      " 4   Term                          89785 non-null  object \n",
      " 5   Credit Score                  70631 non-null  float64\n",
      " 6   Annual Income                 70631 non-null  float64\n",
      " 7   Years in current job          85983 non-null  object \n",
      " 8   Home Ownership                89785 non-null  object \n",
      " 9   Purpose                       89785 non-null  object \n",
      " 10  Monthly Debt                  89785 non-null  float64\n",
      " 11  Years of Credit History       89785 non-null  float64\n",
      " 12  Months since last delinquent  41448 non-null  float64\n",
      " 13  Number of Open Accounts       89785 non-null  float64\n",
      " 14  Number of Credit Problems     89785 non-null  float64\n",
      " 15  Current Credit Balance        89785 non-null  float64\n",
      " 16  Maximum Open Credit           89783 non-null  float64\n",
      " 17  Bankruptcies                  89595 non-null  float64\n",
      " 18  Tax Liens                     89776 non-null  float64\n",
      "dtypes: float64(12), object(7)\n",
      "memory usage: 13.7+ MB\n"
     ]
    }
   ],
   "source": [
    "#understanding the structure and content of the dataframe\n",
    "credit.info()"
   ]
  },
  {
   "cell_type": "code",
   "execution_count": 13,
   "id": "f09add75",
   "metadata": {},
   "outputs": [
    {
     "data": {
      "text/plain": [
       "Loan ID                         81999\n",
       "Customer ID                     81999\n",
       "Loan Status                         2\n",
       "Current Loan Amount             22004\n",
       "Term                                2\n",
       "Credit Score                      324\n",
       "Annual Income                   36174\n",
       "Years in current job               11\n",
       "Home Ownership                      4\n",
       "Purpose                            16\n",
       "Monthly Debt                    65765\n",
       "Years of Credit History           506\n",
       "Months since last delinquent      116\n",
       "Number of Open Accounts            51\n",
       "Number of Credit Problems          14\n",
       "Current Credit Balance          32730\n",
       "Maximum Open Credit             44596\n",
       "Bankruptcies                        8\n",
       "Tax Liens                          12\n",
       "dtype: int64"
      ]
     },
     "execution_count": 13,
     "metadata": {},
     "output_type": "execute_result"
    }
   ],
   "source": [
    "#count of all unique values in the dataframe\n",
    "credit.nunique()"
   ]
  },
  {
   "cell_type": "code",
   "execution_count": 14,
   "id": "fb8b9171",
   "metadata": {
    "scrolled": true
   },
   "outputs": [
    {
     "data": {
      "text/plain": [
       "Loan ID                             1\n",
       "Customer ID                         1\n",
       "Loan Status                         1\n",
       "Current Loan Amount                 1\n",
       "Term                                1\n",
       "Credit Score                    19155\n",
       "Annual Income                   19155\n",
       "Years in current job             3803\n",
       "Home Ownership                      1\n",
       "Purpose                             1\n",
       "Monthly Debt                        1\n",
       "Years of Credit History             1\n",
       "Months since last delinquent    48338\n",
       "Number of Open Accounts             1\n",
       "Number of Credit Problems           1\n",
       "Current Credit Balance              1\n",
       "Maximum Open Credit                 3\n",
       "Bankruptcies                      191\n",
       "Tax Liens                          10\n",
       "dtype: int64"
      ]
     },
     "execution_count": 14,
     "metadata": {},
     "output_type": "execute_result"
    }
   ],
   "source": [
    "#total count of allnull values\n",
    "credit.isna().sum()"
   ]
  },
  {
   "cell_type": "code",
   "execution_count": 15,
   "id": "0815ed0d",
   "metadata": {},
   "outputs": [],
   "source": [
    "# dropping 2 columns 'Loan ID', 'Customer ID' bz both the them have all unique data.\n",
    "columns_to_drop = [\"Loan ID\", \"Customer ID\"]\n",
    "existing_columns = credit.columns.intersection(columns_to_drop)\n",
    "credit.drop(existing_columns, axis=1, inplace=True)"
   ]
  },
  {
   "cell_type": "code",
   "execution_count": 16,
   "id": "6a3dadd1",
   "metadata": {
    "scrolled": true
   },
   "outputs": [
    {
     "data": {
      "text/html": [
       "<div>\n",
       "<style scoped>\n",
       "    .dataframe tbody tr th:only-of-type {\n",
       "        vertical-align: middle;\n",
       "    }\n",
       "\n",
       "    .dataframe tbody tr th {\n",
       "        vertical-align: top;\n",
       "    }\n",
       "\n",
       "    .dataframe thead th {\n",
       "        text-align: right;\n",
       "    }\n",
       "</style>\n",
       "<table border=\"1\" class=\"dataframe\">\n",
       "  <thead>\n",
       "    <tr style=\"text-align: right;\">\n",
       "      <th></th>\n",
       "      <th>Loan Status</th>\n",
       "      <th>Current Loan Amount</th>\n",
       "      <th>Term</th>\n",
       "      <th>Credit Score</th>\n",
       "      <th>Annual Income</th>\n",
       "      <th>Years in current job</th>\n",
       "      <th>Home Ownership</th>\n",
       "      <th>Purpose</th>\n",
       "      <th>Monthly Debt</th>\n",
       "      <th>Years of Credit History</th>\n",
       "      <th>Months since last delinquent</th>\n",
       "      <th>Number of Open Accounts</th>\n",
       "      <th>Number of Credit Problems</th>\n",
       "      <th>Current Credit Balance</th>\n",
       "      <th>Maximum Open Credit</th>\n",
       "      <th>Bankruptcies</th>\n",
       "      <th>Tax Liens</th>\n",
       "    </tr>\n",
       "  </thead>\n",
       "  <tbody>\n",
       "    <tr>\n",
       "      <th>0</th>\n",
       "      <td>Fully Paid</td>\n",
       "      <td>445412.0</td>\n",
       "      <td>Short Term</td>\n",
       "      <td>709.0</td>\n",
       "      <td>1167493.0</td>\n",
       "      <td>8 years</td>\n",
       "      <td>Home Mortgage</td>\n",
       "      <td>Home Improvements</td>\n",
       "      <td>5214.74</td>\n",
       "      <td>17.2</td>\n",
       "      <td>NaN</td>\n",
       "      <td>6.0</td>\n",
       "      <td>1.0</td>\n",
       "      <td>228190.0</td>\n",
       "      <td>416746.0</td>\n",
       "      <td>1.0</td>\n",
       "      <td>0.0</td>\n",
       "    </tr>\n",
       "    <tr>\n",
       "      <th>1</th>\n",
       "      <td>Fully Paid</td>\n",
       "      <td>262328.0</td>\n",
       "      <td>Short Term</td>\n",
       "      <td>NaN</td>\n",
       "      <td>NaN</td>\n",
       "      <td>10+ years</td>\n",
       "      <td>Home Mortgage</td>\n",
       "      <td>Debt Consolidation</td>\n",
       "      <td>33295.98</td>\n",
       "      <td>21.1</td>\n",
       "      <td>8.0</td>\n",
       "      <td>35.0</td>\n",
       "      <td>0.0</td>\n",
       "      <td>229976.0</td>\n",
       "      <td>850784.0</td>\n",
       "      <td>0.0</td>\n",
       "      <td>0.0</td>\n",
       "    </tr>\n",
       "    <tr>\n",
       "      <th>2</th>\n",
       "      <td>Fully Paid</td>\n",
       "      <td>99999999.0</td>\n",
       "      <td>Short Term</td>\n",
       "      <td>741.0</td>\n",
       "      <td>2231892.0</td>\n",
       "      <td>8 years</td>\n",
       "      <td>Own Home</td>\n",
       "      <td>Debt Consolidation</td>\n",
       "      <td>29200.53</td>\n",
       "      <td>14.9</td>\n",
       "      <td>29.0</td>\n",
       "      <td>18.0</td>\n",
       "      <td>1.0</td>\n",
       "      <td>297996.0</td>\n",
       "      <td>750090.0</td>\n",
       "      <td>0.0</td>\n",
       "      <td>0.0</td>\n",
       "    </tr>\n",
       "    <tr>\n",
       "      <th>3</th>\n",
       "      <td>Fully Paid</td>\n",
       "      <td>347666.0</td>\n",
       "      <td>Long Term</td>\n",
       "      <td>721.0</td>\n",
       "      <td>806949.0</td>\n",
       "      <td>3 years</td>\n",
       "      <td>Own Home</td>\n",
       "      <td>Debt Consolidation</td>\n",
       "      <td>8741.90</td>\n",
       "      <td>12.0</td>\n",
       "      <td>NaN</td>\n",
       "      <td>9.0</td>\n",
       "      <td>0.0</td>\n",
       "      <td>256329.0</td>\n",
       "      <td>386958.0</td>\n",
       "      <td>0.0</td>\n",
       "      <td>0.0</td>\n",
       "    </tr>\n",
       "    <tr>\n",
       "      <th>4</th>\n",
       "      <td>Fully Paid</td>\n",
       "      <td>176220.0</td>\n",
       "      <td>Short Term</td>\n",
       "      <td>NaN</td>\n",
       "      <td>NaN</td>\n",
       "      <td>5 years</td>\n",
       "      <td>Rent</td>\n",
       "      <td>Debt Consolidation</td>\n",
       "      <td>20639.70</td>\n",
       "      <td>6.1</td>\n",
       "      <td>NaN</td>\n",
       "      <td>15.0</td>\n",
       "      <td>0.0</td>\n",
       "      <td>253460.0</td>\n",
       "      <td>427174.0</td>\n",
       "      <td>0.0</td>\n",
       "      <td>0.0</td>\n",
       "    </tr>\n",
       "    <tr>\n",
       "      <th>...</th>\n",
       "      <td>...</td>\n",
       "      <td>...</td>\n",
       "      <td>...</td>\n",
       "      <td>...</td>\n",
       "      <td>...</td>\n",
       "      <td>...</td>\n",
       "      <td>...</td>\n",
       "      <td>...</td>\n",
       "      <td>...</td>\n",
       "      <td>...</td>\n",
       "      <td>...</td>\n",
       "      <td>...</td>\n",
       "      <td>...</td>\n",
       "      <td>...</td>\n",
       "      <td>...</td>\n",
       "      <td>...</td>\n",
       "      <td>...</td>\n",
       "    </tr>\n",
       "    <tr>\n",
       "      <th>99996</th>\n",
       "      <td>Fully Paid</td>\n",
       "      <td>99999999.0</td>\n",
       "      <td>Short Term</td>\n",
       "      <td>732.0</td>\n",
       "      <td>1289416.0</td>\n",
       "      <td>1 year</td>\n",
       "      <td>Rent</td>\n",
       "      <td>Debt Consolidation</td>\n",
       "      <td>13109.05</td>\n",
       "      <td>9.4</td>\n",
       "      <td>21.0</td>\n",
       "      <td>22.0</td>\n",
       "      <td>0.0</td>\n",
       "      <td>153045.0</td>\n",
       "      <td>509234.0</td>\n",
       "      <td>0.0</td>\n",
       "      <td>0.0</td>\n",
       "    </tr>\n",
       "    <tr>\n",
       "      <th>99997</th>\n",
       "      <td>Fully Paid</td>\n",
       "      <td>103136.0</td>\n",
       "      <td>Short Term</td>\n",
       "      <td>742.0</td>\n",
       "      <td>1150545.0</td>\n",
       "      <td>6 years</td>\n",
       "      <td>Rent</td>\n",
       "      <td>Debt Consolidation</td>\n",
       "      <td>7315.57</td>\n",
       "      <td>18.8</td>\n",
       "      <td>18.0</td>\n",
       "      <td>12.0</td>\n",
       "      <td>1.0</td>\n",
       "      <td>109554.0</td>\n",
       "      <td>537548.0</td>\n",
       "      <td>1.0</td>\n",
       "      <td>0.0</td>\n",
       "    </tr>\n",
       "    <tr>\n",
       "      <th>99998</th>\n",
       "      <td>Fully Paid</td>\n",
       "      <td>530332.0</td>\n",
       "      <td>Short Term</td>\n",
       "      <td>746.0</td>\n",
       "      <td>1717524.0</td>\n",
       "      <td>9 years</td>\n",
       "      <td>Rent</td>\n",
       "      <td>Debt Consolidation</td>\n",
       "      <td>9890.07</td>\n",
       "      <td>15.0</td>\n",
       "      <td>NaN</td>\n",
       "      <td>8.0</td>\n",
       "      <td>0.0</td>\n",
       "      <td>404225.0</td>\n",
       "      <td>738254.0</td>\n",
       "      <td>0.0</td>\n",
       "      <td>0.0</td>\n",
       "    </tr>\n",
       "    <tr>\n",
       "      <th>99999</th>\n",
       "      <td>Fully Paid</td>\n",
       "      <td>99999999.0</td>\n",
       "      <td>Short Term</td>\n",
       "      <td>743.0</td>\n",
       "      <td>935180.0</td>\n",
       "      <td>NaN</td>\n",
       "      <td>Own Home</td>\n",
       "      <td>Debt Consolidation</td>\n",
       "      <td>9118.10</td>\n",
       "      <td>13.0</td>\n",
       "      <td>NaN</td>\n",
       "      <td>4.0</td>\n",
       "      <td>1.0</td>\n",
       "      <td>45600.0</td>\n",
       "      <td>91014.0</td>\n",
       "      <td>1.0</td>\n",
       "      <td>0.0</td>\n",
       "    </tr>\n",
       "    <tr>\n",
       "      <th>100000</th>\n",
       "      <td>NaN</td>\n",
       "      <td>NaN</td>\n",
       "      <td>NaN</td>\n",
       "      <td>NaN</td>\n",
       "      <td>NaN</td>\n",
       "      <td>NaN</td>\n",
       "      <td>NaN</td>\n",
       "      <td>NaN</td>\n",
       "      <td>NaN</td>\n",
       "      <td>NaN</td>\n",
       "      <td>NaN</td>\n",
       "      <td>NaN</td>\n",
       "      <td>NaN</td>\n",
       "      <td>NaN</td>\n",
       "      <td>NaN</td>\n",
       "      <td>NaN</td>\n",
       "      <td>NaN</td>\n",
       "    </tr>\n",
       "  </tbody>\n",
       "</table>\n",
       "<p>89786 rows × 17 columns</p>\n",
       "</div>"
      ],
      "text/plain": [
       "       Loan Status  Current Loan Amount        Term  Credit Score  \\\n",
       "0       Fully Paid             445412.0  Short Term         709.0   \n",
       "1       Fully Paid             262328.0  Short Term           NaN   \n",
       "2       Fully Paid           99999999.0  Short Term         741.0   \n",
       "3       Fully Paid             347666.0   Long Term         721.0   \n",
       "4       Fully Paid             176220.0  Short Term           NaN   \n",
       "...            ...                  ...         ...           ...   \n",
       "99996   Fully Paid           99999999.0  Short Term         732.0   \n",
       "99997   Fully Paid             103136.0  Short Term         742.0   \n",
       "99998   Fully Paid             530332.0  Short Term         746.0   \n",
       "99999   Fully Paid           99999999.0  Short Term         743.0   \n",
       "100000         NaN                  NaN         NaN           NaN   \n",
       "\n",
       "        Annual Income Years in current job Home Ownership             Purpose  \\\n",
       "0           1167493.0              8 years  Home Mortgage   Home Improvements   \n",
       "1                 NaN            10+ years  Home Mortgage  Debt Consolidation   \n",
       "2           2231892.0              8 years       Own Home  Debt Consolidation   \n",
       "3            806949.0              3 years       Own Home  Debt Consolidation   \n",
       "4                 NaN              5 years           Rent  Debt Consolidation   \n",
       "...               ...                  ...            ...                 ...   \n",
       "99996       1289416.0               1 year           Rent  Debt Consolidation   \n",
       "99997       1150545.0              6 years           Rent  Debt Consolidation   \n",
       "99998       1717524.0              9 years           Rent  Debt Consolidation   \n",
       "99999        935180.0                  NaN       Own Home  Debt Consolidation   \n",
       "100000            NaN                  NaN            NaN                 NaN   \n",
       "\n",
       "        Monthly Debt  Years of Credit History  Months since last delinquent  \\\n",
       "0            5214.74                     17.2                           NaN   \n",
       "1           33295.98                     21.1                           8.0   \n",
       "2           29200.53                     14.9                          29.0   \n",
       "3            8741.90                     12.0                           NaN   \n",
       "4           20639.70                      6.1                           NaN   \n",
       "...              ...                      ...                           ...   \n",
       "99996       13109.05                      9.4                          21.0   \n",
       "99997        7315.57                     18.8                          18.0   \n",
       "99998        9890.07                     15.0                           NaN   \n",
       "99999        9118.10                     13.0                           NaN   \n",
       "100000           NaN                      NaN                           NaN   \n",
       "\n",
       "        Number of Open Accounts  Number of Credit Problems  \\\n",
       "0                           6.0                        1.0   \n",
       "1                          35.0                        0.0   \n",
       "2                          18.0                        1.0   \n",
       "3                           9.0                        0.0   \n",
       "4                          15.0                        0.0   \n",
       "...                         ...                        ...   \n",
       "99996                      22.0                        0.0   \n",
       "99997                      12.0                        1.0   \n",
       "99998                       8.0                        0.0   \n",
       "99999                       4.0                        1.0   \n",
       "100000                      NaN                        NaN   \n",
       "\n",
       "        Current Credit Balance  Maximum Open Credit  Bankruptcies  Tax Liens  \n",
       "0                     228190.0             416746.0           1.0        0.0  \n",
       "1                     229976.0             850784.0           0.0        0.0  \n",
       "2                     297996.0             750090.0           0.0        0.0  \n",
       "3                     256329.0             386958.0           0.0        0.0  \n",
       "4                     253460.0             427174.0           0.0        0.0  \n",
       "...                        ...                  ...           ...        ...  \n",
       "99996                 153045.0             509234.0           0.0        0.0  \n",
       "99997                 109554.0             537548.0           1.0        0.0  \n",
       "99998                 404225.0             738254.0           0.0        0.0  \n",
       "99999                  45600.0              91014.0           1.0        0.0  \n",
       "100000                     NaN                  NaN           NaN        NaN  \n",
       "\n",
       "[89786 rows x 17 columns]"
      ]
     },
     "execution_count": 16,
     "metadata": {},
     "output_type": "execute_result"
    }
   ],
   "source": [
    "credit.drop_duplicates(inplace = True)\n",
    "credit"
   ]
  },
  {
   "cell_type": "code",
   "execution_count": 17,
   "id": "f3e55c8e",
   "metadata": {},
   "outputs": [
    {
     "data": {
      "image/png": "[encoded data removed]",
      "text/plain": [
       "<Figure size 1080x648 with 1 Axes>"
      ]
     },
     "metadata": {
      "needs_background": "light"
     },
     "output_type": "display_data"
    }
   ],
   "source": [
    "#The diagram below show the purpose of loan taking, Majority of the loan was taken for the purpose of Debt consolidations also\n",
    "#the major part of it has been fully paid\n",
    "plt.figure(figsize=(15,9))\n",
    "sns.countplot(x=\"Purpose\",data=credit,hue=\"Loan Status\")\n",
    "plt.xticks(rotation=45)\n",
    "plt.title(\"Purpose of taking Loan\",fontdict={\"fontsize\":20})\n",
    "plt.show()"
   ]
  },
  {
   "cell_type": "code",
   "execution_count": 18,
   "id": "eb917c65",
   "metadata": {
    "scrolled": true
   },
   "outputs": [
    {
     "data": {
      "text/plain": [
       "<AxesSubplot:xlabel='Loan Status', ylabel='count'>"
      ]
     },
     "execution_count": 18,
     "metadata": {},
     "output_type": "execute_result"
    },
    {
     "data": {
      "image/png": "[encoded data removed]",
      "text/plain": [
       "<Figure size 432x288 with 1 Axes>"
      ]
     },
     "metadata": {
      "needs_background": "light"
     },
     "output_type": "display_data"
    }
   ],
   "source": [
    "#The image below show the loan status of the loans taken, over 60,0000 counts of the loans has been fully paid, \n",
    "#which will siginficanlty reduce Non performing loans\n",
    "sns.countplot(x=\"Loan Status\", data = credit)"
   ]
  },
  {
   "cell_type": "code",
   "execution_count": 19,
   "id": "d50b0692",
   "metadata": {},
   "outputs": [
    {
     "data": {
      "text/plain": [
       "<seaborn.axisgrid.FacetGrid at 0x14492b6ccd0>"
      ]
     },
     "execution_count": 19,
     "metadata": {},
     "output_type": "execute_result"
    },
    {
     "data": {
      "image/png": "[encoded data removed]",
      "text/plain": [
       "<Figure size 720x360 with 2 Axes>"
      ]
     },
     "metadata": {
      "needs_background": "light"
     },
     "output_type": "display_data"
    }
   ],
   "source": [
    "#The Diagram below is just a compairson between the loan status (Long term and short term loan based on their repayment level)\n",
    "sns.displot(credit,x=\"Loan Status\", col=\"Term\", stat=\"density\",common_norm=False)"
   ]
  },
  {
   "cell_type": "code",
   "execution_count": 20,
   "id": "92fdeeb6",
   "metadata": {},
   "outputs": [
    {
     "data": {
      "image/png": "[encoded data removed]",
      "text/plain": [
       "<Figure size 432x432 with 1 Axes>"
      ]
     },
     "metadata": {},
     "output_type": "display_data"
    }
   ],
   "source": [
    "#The visualization below show the time period of the loan taking, over 70% was taken on a short term basic.\n",
    "#Short term loans varies but it is always lesser than a year < 1 years.\n",
    "c = ['#724949','#cfa691', '#120f0f', '#a06868']\n",
    "plt.figure(figsize=(6,6))\n",
    "plt.pie(x=credit[\"Term\"].value_counts(),labels=['Short term','Long term'],autopct='%.2f%%',explode=[0,0.09])\n",
    "plt.title(\"Time Period of Taking Loan\",fontdict={\"fontsize\":20})\n",
    "plt.show()"
   ]
  },
  {
   "cell_type": "markdown",
   "id": "ae07675f",
   "metadata": {},
   "source": [
    "# Credit Score Ranges"
   ]
  },
  {
   "cell_type": "markdown",
   "id": "39fc4e02",
   "metadata": {},
   "source": [
    "This is an analysis on the credit score of the customers.Credit scores is just the numercial representaion of an individual creditworthiness"
   ]
  },
  {
   "cell_type": "code",
   "execution_count": 21,
   "id": "a633b241",
   "metadata": {},
   "outputs": [
    {
     "data": {
      "text/plain": [
       "count    70631.000000\n",
       "mean      1130.830598\n",
       "std       1571.037395\n",
       "min        585.000000\n",
       "25%        708.000000\n",
       "50%        729.000000\n",
       "75%        742.000000\n",
       "max       7510.000000\n",
       "Name: Credit Score, dtype: float64"
      ]
     },
     "execution_count": 21,
     "metadata": {},
     "output_type": "execute_result"
    }
   ],
   "source": [
    "credit[\"Credit Score\"].describe()"
   ]
  },
  {
   "cell_type": "markdown",
   "id": "4ed161dd",
   "metadata": {},
   "source": [
    "N:B Credit score range is 300 to 850 so values above 850 are invalid\n",
    "it may be a typo , a zero is added to the original score"
   ]
  },
  {
   "cell_type": "code",
   "execution_count": 22,
   "id": "70471205",
   "metadata": {},
   "outputs": [],
   "source": [
    "#This function aims to handle a potential data error in the \"Credit Score\" column by dividing the values greater than 850 by 10. This assumes that any value greater than 850 is likely a data entry error, as the typical credit score range is between 300 and 850. By dividing these values by 10, the function attempts to correct the error and bring them within a more reasonable range\n",
    "def credit_error(value):\n",
    "    credit_value = value\n",
    "    credit_value[\"Credit Score\"] = np.where(value[\"Credit Score\"] > 850, value[\"Credit Score\"].values /10, value[\"Credit Score\"])\n",
    "    return credit_value"
   ]
  },
  {
   "cell_type": "code",
   "execution_count": 23,
   "id": "1aa9be0a",
   "metadata": {},
   "outputs": [
    {
     "data": {
      "text/html": [
       "<div>\n",
       "<style scoped>\n",
       "    .dataframe tbody tr th:only-of-type {\n",
       "        vertical-align: middle;\n",
       "    }\n",
       "\n",
       "    .dataframe tbody tr th {\n",
       "        vertical-align: top;\n",
       "    }\n",
       "\n",
       "    .dataframe thead th {\n",
       "        text-align: right;\n",
       "    }\n",
       "</style>\n",
       "<table border=\"1\" class=\"dataframe\">\n",
       "  <thead>\n",
       "    <tr style=\"text-align: right;\">\n",
       "      <th></th>\n",
       "      <th>Loan Status</th>\n",
       "      <th>Current Loan Amount</th>\n",
       "      <th>Term</th>\n",
       "      <th>Credit Score</th>\n",
       "      <th>Annual Income</th>\n",
       "      <th>Years in current job</th>\n",
       "      <th>Home Ownership</th>\n",
       "      <th>Purpose</th>\n",
       "      <th>Monthly Debt</th>\n",
       "      <th>Years of Credit History</th>\n",
       "      <th>Months since last delinquent</th>\n",
       "      <th>Number of Open Accounts</th>\n",
       "      <th>Number of Credit Problems</th>\n",
       "      <th>Current Credit Balance</th>\n",
       "      <th>Maximum Open Credit</th>\n",
       "      <th>Bankruptcies</th>\n",
       "      <th>Tax Liens</th>\n",
       "    </tr>\n",
       "  </thead>\n",
       "  <tbody>\n",
       "    <tr>\n",
       "      <th>0</th>\n",
       "      <td>Fully Paid</td>\n",
       "      <td>445412.0</td>\n",
       "      <td>Short Term</td>\n",
       "      <td>709.0</td>\n",
       "      <td>1167493.0</td>\n",
       "      <td>8 years</td>\n",
       "      <td>Home Mortgage</td>\n",
       "      <td>Home Improvements</td>\n",
       "      <td>5214.74</td>\n",
       "      <td>17.2</td>\n",
       "      <td>NaN</td>\n",
       "      <td>6.0</td>\n",
       "      <td>1.0</td>\n",
       "      <td>228190.0</td>\n",
       "      <td>416746.0</td>\n",
       "      <td>1.0</td>\n",
       "      <td>0.0</td>\n",
       "    </tr>\n",
       "    <tr>\n",
       "      <th>1</th>\n",
       "      <td>Fully Paid</td>\n",
       "      <td>262328.0</td>\n",
       "      <td>Short Term</td>\n",
       "      <td>NaN</td>\n",
       "      <td>NaN</td>\n",
       "      <td>10+ years</td>\n",
       "      <td>Home Mortgage</td>\n",
       "      <td>Debt Consolidation</td>\n",
       "      <td>33295.98</td>\n",
       "      <td>21.1</td>\n",
       "      <td>8.0</td>\n",
       "      <td>35.0</td>\n",
       "      <td>0.0</td>\n",
       "      <td>229976.0</td>\n",
       "      <td>850784.0</td>\n",
       "      <td>0.0</td>\n",
       "      <td>0.0</td>\n",
       "    </tr>\n",
       "    <tr>\n",
       "      <th>2</th>\n",
       "      <td>Fully Paid</td>\n",
       "      <td>99999999.0</td>\n",
       "      <td>Short Term</td>\n",
       "      <td>741.0</td>\n",
       "      <td>2231892.0</td>\n",
       "      <td>8 years</td>\n",
       "      <td>Own Home</td>\n",
       "      <td>Debt Consolidation</td>\n",
       "      <td>29200.53</td>\n",
       "      <td>14.9</td>\n",
       "      <td>29.0</td>\n",
       "      <td>18.0</td>\n",
       "      <td>1.0</td>\n",
       "      <td>297996.0</td>\n",
       "      <td>750090.0</td>\n",
       "      <td>0.0</td>\n",
       "      <td>0.0</td>\n",
       "    </tr>\n",
       "    <tr>\n",
       "      <th>3</th>\n",
       "      <td>Fully Paid</td>\n",
       "      <td>347666.0</td>\n",
       "      <td>Long Term</td>\n",
       "      <td>721.0</td>\n",
       "      <td>806949.0</td>\n",
       "      <td>3 years</td>\n",
       "      <td>Own Home</td>\n",
       "      <td>Debt Consolidation</td>\n",
       "      <td>8741.90</td>\n",
       "      <td>12.0</td>\n",
       "      <td>NaN</td>\n",
       "      <td>9.0</td>\n",
       "      <td>0.0</td>\n",
       "      <td>256329.0</td>\n",
       "      <td>386958.0</td>\n",
       "      <td>0.0</td>\n",
       "      <td>0.0</td>\n",
       "    </tr>\n",
       "    <tr>\n",
       "      <th>4</th>\n",
       "      <td>Fully Paid</td>\n",
       "      <td>176220.0</td>\n",
       "      <td>Short Term</td>\n",
       "      <td>NaN</td>\n",
       "      <td>NaN</td>\n",
       "      <td>5 years</td>\n",
       "      <td>Rent</td>\n",
       "      <td>Debt Consolidation</td>\n",
       "      <td>20639.70</td>\n",
       "      <td>6.1</td>\n",
       "      <td>NaN</td>\n",
       "      <td>15.0</td>\n",
       "      <td>0.0</td>\n",
       "      <td>253460.0</td>\n",
       "      <td>427174.0</td>\n",
       "      <td>0.0</td>\n",
       "      <td>0.0</td>\n",
       "    </tr>\n",
       "    <tr>\n",
       "      <th>...</th>\n",
       "      <td>...</td>\n",
       "      <td>...</td>\n",
       "      <td>...</td>\n",
       "      <td>...</td>\n",
       "      <td>...</td>\n",
       "      <td>...</td>\n",
       "      <td>...</td>\n",
       "      <td>...</td>\n",
       "      <td>...</td>\n",
       "      <td>...</td>\n",
       "      <td>...</td>\n",
       "      <td>...</td>\n",
       "      <td>...</td>\n",
       "      <td>...</td>\n",
       "      <td>...</td>\n",
       "      <td>...</td>\n",
       "      <td>...</td>\n",
       "    </tr>\n",
       "    <tr>\n",
       "      <th>99996</th>\n",
       "      <td>Fully Paid</td>\n",
       "      <td>99999999.0</td>\n",
       "      <td>Short Term</td>\n",
       "      <td>732.0</td>\n",
       "      <td>1289416.0</td>\n",
       "      <td>1 year</td>\n",
       "      <td>Rent</td>\n",
       "      <td>Debt Consolidation</td>\n",
       "      <td>13109.05</td>\n",
       "      <td>9.4</td>\n",
       "      <td>21.0</td>\n",
       "      <td>22.0</td>\n",
       "      <td>0.0</td>\n",
       "      <td>153045.0</td>\n",
       "      <td>509234.0</td>\n",
       "      <td>0.0</td>\n",
       "      <td>0.0</td>\n",
       "    </tr>\n",
       "    <tr>\n",
       "      <th>99997</th>\n",
       "      <td>Fully Paid</td>\n",
       "      <td>103136.0</td>\n",
       "      <td>Short Term</td>\n",
       "      <td>742.0</td>\n",
       "      <td>1150545.0</td>\n",
       "      <td>6 years</td>\n",
       "      <td>Rent</td>\n",
       "      <td>Debt Consolidation</td>\n",
       "      <td>7315.57</td>\n",
       "      <td>18.8</td>\n",
       "      <td>18.0</td>\n",
       "      <td>12.0</td>\n",
       "      <td>1.0</td>\n",
       "      <td>109554.0</td>\n",
       "      <td>537548.0</td>\n",
       "      <td>1.0</td>\n",
       "      <td>0.0</td>\n",
       "    </tr>\n",
       "    <tr>\n",
       "      <th>99998</th>\n",
       "      <td>Fully Paid</td>\n",
       "      <td>530332.0</td>\n",
       "      <td>Short Term</td>\n",
       "      <td>746.0</td>\n",
       "      <td>1717524.0</td>\n",
       "      <td>9 years</td>\n",
       "      <td>Rent</td>\n",
       "      <td>Debt Consolidation</td>\n",
       "      <td>9890.07</td>\n",
       "      <td>15.0</td>\n",
       "      <td>NaN</td>\n",
       "      <td>8.0</td>\n",
       "      <td>0.0</td>\n",
       "      <td>404225.0</td>\n",
       "      <td>738254.0</td>\n",
       "      <td>0.0</td>\n",
       "      <td>0.0</td>\n",
       "    </tr>\n",
       "    <tr>\n",
       "      <th>99999</th>\n",
       "      <td>Fully Paid</td>\n",
       "      <td>99999999.0</td>\n",
       "      <td>Short Term</td>\n",
       "      <td>743.0</td>\n",
       "      <td>935180.0</td>\n",
       "      <td>NaN</td>\n",
       "      <td>Own Home</td>\n",
       "      <td>Debt Consolidation</td>\n",
       "      <td>9118.10</td>\n",
       "      <td>13.0</td>\n",
       "      <td>NaN</td>\n",
       "      <td>4.0</td>\n",
       "      <td>1.0</td>\n",
       "      <td>45600.0</td>\n",
       "      <td>91014.0</td>\n",
       "      <td>1.0</td>\n",
       "      <td>0.0</td>\n",
       "    </tr>\n",
       "    <tr>\n",
       "      <th>100000</th>\n",
       "      <td>NaN</td>\n",
       "      <td>NaN</td>\n",
       "      <td>NaN</td>\n",
       "      <td>NaN</td>\n",
       "      <td>NaN</td>\n",
       "      <td>NaN</td>\n",
       "      <td>NaN</td>\n",
       "      <td>NaN</td>\n",
       "      <td>NaN</td>\n",
       "      <td>NaN</td>\n",
       "      <td>NaN</td>\n",
       "      <td>NaN</td>\n",
       "      <td>NaN</td>\n",
       "      <td>NaN</td>\n",
       "      <td>NaN</td>\n",
       "      <td>NaN</td>\n",
       "      <td>NaN</td>\n",
       "    </tr>\n",
       "  </tbody>\n",
       "</table>\n",
       "<p>89786 rows × 17 columns</p>\n",
       "</div>"
      ],
      "text/plain": [
       "       Loan Status  Current Loan Amount        Term  Credit Score  \\\n",
       "0       Fully Paid             445412.0  Short Term         709.0   \n",
       "1       Fully Paid             262328.0  Short Term           NaN   \n",
       "2       Fully Paid           99999999.0  Short Term         741.0   \n",
       "3       Fully Paid             347666.0   Long Term         721.0   \n",
       "4       Fully Paid             176220.0  Short Term           NaN   \n",
       "...            ...                  ...         ...           ...   \n",
       "99996   Fully Paid           99999999.0  Short Term         732.0   \n",
       "99997   Fully Paid             103136.0  Short Term         742.0   \n",
       "99998   Fully Paid             530332.0  Short Term         746.0   \n",
       "99999   Fully Paid           99999999.0  Short Term         743.0   \n",
       "100000         NaN                  NaN         NaN           NaN   \n",
       "\n",
       "        Annual Income Years in current job Home Ownership             Purpose  \\\n",
       "0           1167493.0              8 years  Home Mortgage   Home Improvements   \n",
       "1                 NaN            10+ years  Home Mortgage  Debt Consolidation   \n",
       "2           2231892.0              8 years       Own Home  Debt Consolidation   \n",
       "3            806949.0              3 years       Own Home  Debt Consolidation   \n",
       "4                 NaN              5 years           Rent  Debt Consolidation   \n",
       "...               ...                  ...            ...                 ...   \n",
       "99996       1289416.0               1 year           Rent  Debt Consolidation   \n",
       "99997       1150545.0              6 years           Rent  Debt Consolidation   \n",
       "99998       1717524.0              9 years           Rent  Debt Consolidation   \n",
       "99999        935180.0                  NaN       Own Home  Debt Consolidation   \n",
       "100000            NaN                  NaN            NaN                 NaN   \n",
       "\n",
       "        Monthly Debt  Years of Credit History  Months since last delinquent  \\\n",
       "0            5214.74                     17.2                           NaN   \n",
       "1           33295.98                     21.1                           8.0   \n",
       "2           29200.53                     14.9                          29.0   \n",
       "3            8741.90                     12.0                           NaN   \n",
       "4           20639.70                      6.1                           NaN   \n",
       "...              ...                      ...                           ...   \n",
       "99996       13109.05                      9.4                          21.0   \n",
       "99997        7315.57                     18.8                          18.0   \n",
       "99998        9890.07                     15.0                           NaN   \n",
       "99999        9118.10                     13.0                           NaN   \n",
       "100000           NaN                      NaN                           NaN   \n",
       "\n",
       "        Number of Open Accounts  Number of Credit Problems  \\\n",
       "0                           6.0                        1.0   \n",
       "1                          35.0                        0.0   \n",
       "2                          18.0                        1.0   \n",
       "3                           9.0                        0.0   \n",
       "4                          15.0                        0.0   \n",
       "...                         ...                        ...   \n",
       "99996                      22.0                        0.0   \n",
       "99997                      12.0                        1.0   \n",
       "99998                       8.0                        0.0   \n",
       "99999                       4.0                        1.0   \n",
       "100000                      NaN                        NaN   \n",
       "\n",
       "        Current Credit Balance  Maximum Open Credit  Bankruptcies  Tax Liens  \n",
       "0                     228190.0             416746.0           1.0        0.0  \n",
       "1                     229976.0             850784.0           0.0        0.0  \n",
       "2                     297996.0             750090.0           0.0        0.0  \n",
       "3                     256329.0             386958.0           0.0        0.0  \n",
       "4                     253460.0             427174.0           0.0        0.0  \n",
       "...                        ...                  ...           ...        ...  \n",
       "99996                 153045.0             509234.0           0.0        0.0  \n",
       "99997                 109554.0             537548.0           1.0        0.0  \n",
       "99998                 404225.0             738254.0           0.0        0.0  \n",
       "99999                  45600.0              91014.0           1.0        0.0  \n",
       "100000                     NaN                  NaN           NaN        NaN  \n",
       "\n",
       "[89786 rows x 17 columns]"
      ]
     },
     "execution_count": 23,
     "metadata": {},
     "output_type": "execute_result"
    }
   ],
   "source": [
    "credit_error(credit)"
   ]
  },
  {
   "cell_type": "code",
   "execution_count": 24,
   "id": "5a2465c5",
   "metadata": {},
   "outputs": [
    {
     "data": {
      "text/plain": [
       "count    70631.000000\n",
       "mean       718.579476\n",
       "std         28.126929\n",
       "min        585.000000\n",
       "25%        706.000000\n",
       "50%        725.000000\n",
       "75%        740.000000\n",
       "max        751.000000\n",
       "Name: Credit Score, dtype: float64"
      ]
     },
     "execution_count": 24,
     "metadata": {},
     "output_type": "execute_result"
    }
   ],
   "source": [
    "credit_score = credit[\"Credit Score\"]\n",
    "description = credit_score.describe()\n",
    "description"
   ]
  },
  {
   "cell_type": "code",
   "execution_count": null,
   "id": "42adbaa4",
   "metadata": {},
   "outputs": [],
   "source": [
    "credit.head(3)"
   ]
  },
  {
   "cell_type": "code",
   "execution_count": null,
   "id": "a9b54a10",
   "metadata": {},
   "outputs": [],
   "source": [
    "#The code categorizes credit scores into different ranges (\"Poor,\" \"Fair,\" \"Good,\" \"Very Good,\" \"Excellent\") based on specific conditions. It replaces the original numeric credit score values with these categorical labels\n",
    "credit[\"Credit Score\"] = credit[\"Credit Score\"].apply(lambda val: \"Poor\" if np.isreal(val) and val < 580 else val)\n",
    "credit[\"Credit Score\"] = credit[\"Credit Score\"].apply(lambda val: \"Fair\" if np.isreal(val) and (val >= 580 and val < 670) else val)\n",
    "credit[\"Credit Score\"] = credit[\"Credit Score\"].apply(lambda val: \"Good\" if np.isreal(val) and (val >= 670 and val < 740) else val)\n",
    "credit[\"Credit Score\"] = credit[\"Credit Score\"].apply(lambda val: \"Very Good\" if np.isreal(val) and (val >= 740 and val < 800) else val)\n",
    "credit[\"Credit Score\"] = credit[\"Credit Score\"].apply(lambda val: \"Excellent\" if np.isreal(val) and (val >= 800 and val <= 850) else val)"
   ]
  },
  {
   "cell_type": "code",
   "execution_count": null,
   "id": "a4aab84a",
   "metadata": {},
   "outputs": [],
   "source": [
    "categ=credit[\"Credit Score\"].value_counts()\n",
    "categ"
   ]
  },
  {
   "cell_type": "code",
   "execution_count": 39,
   "id": "f84c951b",
   "metadata": {},
   "outputs": [
    {
     "data": {
      "image/png": "[encoded data removed]",
      "text/plain": [
       "<Figure size 720x432 with 1 Axes>"
      ]
     },
     "metadata": {},
     "output_type": "display_data"
    }
   ],
   "source": [
    "#The diagram below is showing the break down of the credit scores, over 60% of the customers have a good credit score which\n",
    "#simply means that if they take loans it might not end up as a bad loan\n",
    "fig, ax = plt.subplots(figsize=(10, 6))\n",
    "\n",
    "colors = [\"#6495ED\", \"#9FE2BF\", \"#CCCCFF\"]\n",
    "explode = [0.1] * len(categ.index)  # Optional: Set explode values if desired\n",
    "\n",
    "ax.pie(categ.values, labels=categ.index, shadow=True, autopct='%.0f%%', colors=colors, explode=explode, radius=1.5)\n",
    "ax.set_title(\"Credit Score Ranges\")\n",
    "ax.legend(categ.index)\n",
    "\n",
    "plt.show()"
   ]
  },
  {
   "cell_type": "code",
   "execution_count": 40,
   "id": "aa15ffff",
   "metadata": {},
   "outputs": [
    {
     "data": {
      "text/plain": [
       "<AxesSubplot:xlabel='Credit Score', ylabel='count'>"
      ]
     },
     "execution_count": 40,
     "metadata": {},
     "output_type": "execute_result"
    },
    {
     "data": {
      "image/png": "[encoded data removed]",
      "text/plain": [
       "<Figure size 432x288 with 1 Axes>"
      ]
     },
     "metadata": {
      "needs_background": "light"
     },
     "output_type": "display_data"
    }
   ],
   "source": [
    "#Analyis per credit score based on their loan status\n",
    "sns.countplot(x=credit[\"Credit Score\"], hue=credit[\"Loan Status\"])"
   ]
  },
  {
   "cell_type": "markdown",
   "id": "eeee7114",
   "metadata": {},
   "source": [
    "# Purpose"
   ]
  },
  {
   "cell_type": "code",
   "execution_count": 41,
   "id": "129b0abe",
   "metadata": {},
   "outputs": [
    {
     "data": {
      "text/plain": [
       "Purpose\n",
       "Business Loan            1.521395\n",
       "Buy House                0.648208\n",
       "Buy a Car                1.297530\n",
       "Debt Consolidation      78.892032\n",
       "Educational Expenses     0.101352\n",
       "Home Improvements        5.832758\n",
       "Medical Bills            1.094825\n",
       "Other                    3.209855\n",
       "Take a Trip              0.543515\n",
       "major_purchase           0.367541\n",
       "moving                   0.150358\n",
       "other                    5.830530\n",
       "renewable_energy         0.008910\n",
       "small_business           0.284009\n",
       "vacation                 0.099125\n",
       "wedding                  0.116945\n",
       "dtype: float64"
      ]
     },
     "execution_count": 41,
     "metadata": {},
     "output_type": "execute_result"
    }
   ],
   "source": [
    "# showing percentage of each purpose\n",
    "credit_purpose_percentage = credit.groupby(\"Purpose\").size() / len(credit) * 100\n",
    "credit_purpose_percentage"
   ]
  },
  {
   "cell_type": "markdown",
   "id": "d474da6d",
   "metadata": {},
   "source": [
    "N:B\n",
    "Nearly 80% of loans are taken out to consolidate debt.\n",
    "Debt consolidation is the process of taking out a new loan to pay off multiple existing debts. This can be a good option for people who are struggling to make multiple monthly payments, or who have high interest rates on their existing debt"
   ]
  },
  {
   "cell_type": "code",
   "execution_count": 42,
   "id": "ec668071",
   "metadata": {},
   "outputs": [
    {
     "data": {
      "text/plain": [
       "<AxesSubplot:>"
      ]
     },
     "execution_count": 42,
     "metadata": {},
     "output_type": "execute_result"
    },
    {
     "data": {
      "image/png": "[encoded data removed]",
      "text/plain": [
       "<Figure size 576x432 with 1 Axes>"
      ]
     },
     "metadata": {
      "needs_background": "light"
     },
     "output_type": "display_data"
    }
   ],
   "source": [
    "#This code calculates the count of each unique purpose in the \"Purpose\" column and visualizes it using a horizontal bar plot. \n",
    "#This helps to understand the distribution and relative frequencies of different purposes in the dataset.\n",
    "credit_purpose_counts = credit['Purpose'].value_counts()\n",
    "plt.figure(figsize=(8, 6))\n",
    "credit_purpose_counts.plot(kind='barh')"
   ]
  },
  {
   "cell_type": "markdown",
   "id": "a0ba867e",
   "metadata": {},
   "source": [
    "# Years in current Job"
   ]
  },
  {
   "cell_type": "code",
   "execution_count": 43,
   "id": "bbee3096",
   "metadata": {
    "scrolled": false
   },
   "outputs": [
    {
     "data": {
      "text/plain": [
       "<AxesSubplot:xlabel='Years of Credit History', ylabel='Density'>"
      ]
     },
     "execution_count": 43,
     "metadata": {},
     "output_type": "execute_result"
    },
    {
     "data": {
      "image/png": "[encoded data removed]",
      "text/plain": [
       "<Figure size 432x288 with 1 Axes>"
      ]
     },
     "metadata": {
      "needs_background": "light"
     },
     "output_type": "display_data"
    }
   ],
   "source": [
    "#This generates a KDE plot to visualize the distribution of the \"Years of Credit History\" variable in the \"credit\".\n",
    "sns.kdeplot(data=credit, x=\"Years of Credit History\")"
   ]
  },
  {
   "cell_type": "code",
   "execution_count": 44,
   "id": "38d6c08a",
   "metadata": {},
   "outputs": [
    {
     "data": {
      "text/plain": [
       "<AxesSubplot:xlabel='Years in current job', ylabel='count'>"
      ]
     },
     "execution_count": 44,
     "metadata": {},
     "output_type": "execute_result"
    },
    {
     "data": {
      "image/png": "[encoded data removed]",
      "text/plain": [
       "<Figure size 720x504 with 1 Axes>"
      ]
     },
     "metadata": {
      "needs_background": "light"
     },
     "output_type": "display_data"
    }
   ],
   "source": [
    "#This Visual converts the \"Years in current job\" column to numeric values, and then creates a countplot to visualize the distribution of years in the current job \n",
    "credit['Years in current job'] = credit['Years in current job'].apply(str).str.extract('(\\d+)').astype(float)\n",
    "\n",
    "plt.figure(figsize=(10, 7))\n",
    "sns.countplot(data=credit, x='Years in current job', color =\"blue\")"
   ]
  },
  {
   "cell_type": "code",
   "execution_count": 46,
   "id": "be0c5e48",
   "metadata": {
    "scrolled": true
   },
   "outputs": [
    {
     "data": {
      "text/plain": [
       "10.0    27755\n",
       "1.0     13197\n",
       "2.0      8254\n",
       "3.0      7339\n",
       "5.0      6136\n",
       "4.0      5511\n",
       "6.0      5134\n",
       "7.0      4989\n",
       "8.0      4121\n",
       "9.0      3547\n",
       "Name: Years in current job, dtype: int64"
      ]
     },
     "execution_count": 46,
     "metadata": {},
     "output_type": "execute_result"
    }
   ],
   "source": [
    "credit['Years in current job'].value_counts()"
   ]
  },
  {
   "cell_type": "code",
   "execution_count": 47,
   "id": "33641885",
   "metadata": {},
   "outputs": [
    {
     "data": {
      "text/plain": [
       "count    85983.000000\n",
       "mean         5.961806\n",
       "std          3.500484\n",
       "min          1.000000\n",
       "25%          3.000000\n",
       "50%          6.000000\n",
       "75%         10.000000\n",
       "max         10.000000\n",
       "Name: Years in current job, dtype: float64"
      ]
     },
     "execution_count": 47,
     "metadata": {},
     "output_type": "execute_result"
    }
   ],
   "source": [
    "credit['Years in current job'].describe()"
   ]
  },
  {
   "cell_type": "code",
   "execution_count": 48,
   "id": "8fe2f4a5",
   "metadata": {},
   "outputs": [
    {
     "data": {
      "text/plain": [
       "3803"
      ]
     },
     "execution_count": 48,
     "metadata": {},
     "output_type": "execute_result"
    }
   ],
   "source": [
    "credit['Years in current job'].isnull().sum()"
   ]
  },
  {
   "cell_type": "markdown",
   "id": "7dd97195",
   "metadata": {},
   "source": [
    "Filling Nan values with the same distribiution of values"
   ]
  },
  {
   "cell_type": "code",
   "execution_count": 52,
   "id": "49cf9910",
   "metadata": {},
   "outputs": [],
   "source": [
    "filing=credit[\"Years in current job\"].unique()"
   ]
  },
  {
   "cell_type": "code",
   "execution_count": 53,
   "id": "40c2e4d8",
   "metadata": {},
   "outputs": [],
   "source": [
    "filing=np.sort(filing)"
   ]
  },
  {
   "cell_type": "code",
   "execution_count": 54,
   "id": "c20c08f8",
   "metadata": {},
   "outputs": [
    {
     "data": {
      "text/plain": [
       "array([ 1.,  2.,  3.,  4.,  5.,  6.,  7.,  8.,  9., 10., nan])"
      ]
     },
     "execution_count": 54,
     "metadata": {},
     "output_type": "execute_result"
    }
   ],
   "source": [
    "filing"
   ]
  },
  {
   "cell_type": "code",
   "execution_count": 55,
   "id": "b3c9173b",
   "metadata": {},
   "outputs": [],
   "source": [
    "# deleting Nan value\n",
    "fill=np.delete(filing,10)"
   ]
  },
  {
   "cell_type": "code",
   "execution_count": 56,
   "id": "6cda62f8",
   "metadata": {},
   "outputs": [
    {
     "data": {
      "text/plain": [
       "array([ 1.,  2.,  3.,  4.,  5.,  6.,  7.,  8.,  9., 10.])"
      ]
     },
     "execution_count": 56,
     "metadata": {},
     "output_type": "execute_result"
    }
   ],
   "source": [
    "fill"
   ]
  },
  {
   "cell_type": "code",
   "execution_count": 57,
   "id": "0c0e3dc2",
   "metadata": {},
   "outputs": [],
   "source": [
    "# getting the probability of each value \n",
    "prop = credit[\"Years in current job\"].sort_values().value_counts(normalize=True, sort=False) "
   ]
  },
  {
   "cell_type": "code",
   "execution_count": 58,
   "id": "c3d609db",
   "metadata": {},
   "outputs": [],
   "source": [
    "# convert the series to list \n",
    "prop = prop.to_list()"
   ]
  },
  {
   "cell_type": "code",
   "execution_count": 59,
   "id": "b5ea6a7e",
   "metadata": {
    "scrolled": true
   },
   "outputs": [
    {
     "data": {
      "text/plain": [
       "[0.1534838281985974,\n",
       " 0.0959957200842027,\n",
       " 0.0853540816207855,\n",
       " 0.06409406510589302,\n",
       " 0.07136294383773537,\n",
       " 0.05970947745484573,\n",
       " 0.058023097589058305,\n",
       " 0.047928078806275656,\n",
       " 0.041252340578951656,\n",
       " 0.3227963667236547]"
      ]
     },
     "execution_count": 59,
     "metadata": {},
     "output_type": "execute_result"
    }
   ],
   "source": [
    "prop"
   ]
  },
  {
   "cell_type": "code",
   "execution_count": 60,
   "id": "0596b516",
   "metadata": {},
   "outputs": [],
   "source": [
    "#filling Nan \n",
    "credit[\"Years in current job\"].fillna(np.random.choice(fill,p=prop),inplace=True)"
   ]
  },
  {
   "cell_type": "code",
   "execution_count": 61,
   "id": "5f97c224",
   "metadata": {},
   "outputs": [
    {
     "data": {
      "text/plain": [
       "10.0    27755\n",
       "1.0     13197\n",
       "2.0      8254\n",
       "9.0      7350\n",
       "3.0      7339\n",
       "5.0      6136\n",
       "4.0      5511\n",
       "6.0      5134\n",
       "7.0      4989\n",
       "8.0      4121\n",
       "Name: Years in current job, dtype: int64"
      ]
     },
     "execution_count": 61,
     "metadata": {},
     "output_type": "execute_result"
    }
   ],
   "source": [
    "credit[\"Years in current job\"].value_counts()"
   ]
  },
  {
   "cell_type": "code",
   "execution_count": 62,
   "id": "0af7b483",
   "metadata": {},
   "outputs": [
    {
     "data": {
      "text/plain": [
       "<AxesSubplot:xlabel='Years in current job', ylabel='count'>"
      ]
     },
     "execution_count": 62,
     "metadata": {},
     "output_type": "execute_result"
    },
    {
     "data": {
      "image/png": "[encoded data removed]",
      "text/plain": [
       "<Figure size 720x504 with 1 Axes>"
      ]
     },
     "metadata": {
      "needs_background": "light"
     },
     "output_type": "display_data"
    }
   ],
   "source": [
    "# after filling nan values\n",
    "plt.figure(figsize = (10,7))\n",
    "sns.countplot(credit['Years in current job'])"
   ]
  },
  {
   "cell_type": "code",
   "execution_count": 63,
   "id": "e93ef61a",
   "metadata": {},
   "outputs": [
    {
     "data": {
      "text/plain": [
       "<AxesSubplot:xlabel='Years in current job', ylabel='count'>"
      ]
     },
     "execution_count": 63,
     "metadata": {},
     "output_type": "execute_result"
    },
    {
     "data": {
      "image/png": "[encoded data removed]",
      "text/plain": [
       "<Figure size 1080x360 with 1 Axes>"
      ]
     },
     "metadata": {
      "needs_background": "light"
     },
     "output_type": "display_data"
    }
   ],
   "source": [
    "plt.figure(figsize = (15,5))\n",
    "sns.countplot(x= credit[\"Years in current job\"], palette=\"Set2\")"
   ]
  },
  {
   "cell_type": "markdown",
   "id": "d930d576",
   "metadata": {},
   "source": [
    "# Annual Income"
   ]
  },
  {
   "cell_type": "code",
   "execution_count": 64,
   "id": "46cc9d74",
   "metadata": {},
   "outputs": [
    {
     "data": {
      "text/plain": [
       "count    7.063100e+04\n",
       "mean     1.375894e+06\n",
       "std      1.104852e+06\n",
       "min      7.662700e+04\n",
       "25%      8.479320e+05\n",
       "50%      1.168975e+06\n",
       "75%      1.648915e+06\n",
       "max      1.655574e+08\n",
       "Name: Annual Income, dtype: float64"
      ]
     },
     "execution_count": 64,
     "metadata": {},
     "output_type": "execute_result"
    }
   ],
   "source": [
    "credit[\"Annual Income\"].describe()"
   ]
  },
  {
   "cell_type": "code",
   "execution_count": 65,
   "id": "41f7b44f",
   "metadata": {},
   "outputs": [
    {
     "data": {
      "text/plain": [
       "1168975.0"
      ]
     },
     "execution_count": 65,
     "metadata": {},
     "output_type": "execute_result"
    }
   ],
   "source": [
    "credit[\"Annual Income\"].median()"
   ]
  },
  {
   "cell_type": "code",
   "execution_count": 66,
   "id": "d59c15fd",
   "metadata": {},
   "outputs": [
    {
     "data": {
      "text/plain": [
       "1375894.3876909572"
      ]
     },
     "execution_count": 66,
     "metadata": {},
     "output_type": "execute_result"
    }
   ],
   "source": [
    "credit[\"Annual Income\"].mean()"
   ]
  },
  {
   "cell_type": "code",
   "execution_count": 67,
   "id": "c003da55",
   "metadata": {},
   "outputs": [],
   "source": [
    "## Filling Nan values with median :\n",
    "credit[\"Annual Income\"].fillna(credit[\"Annual Income\"].mean(), inplace=True)"
   ]
  },
  {
   "cell_type": "code",
   "execution_count": 68,
   "id": "56fa792c",
   "metadata": {},
   "outputs": [
    {
     "data": {
      "text/plain": [
       "0"
      ]
     },
     "execution_count": 68,
     "metadata": {},
     "output_type": "execute_result"
    }
   ],
   "source": [
    "credit[\"Annual Income\"].isna().sum()"
   ]
  },
  {
   "cell_type": "code",
   "execution_count": 69,
   "id": "0f156c85",
   "metadata": {},
   "outputs": [
    {
     "name": "stdout",
     "output_type": "stream",
     "text": [
      "<class 'pandas.core.frame.DataFrame'>\n",
      "Int64Index: 89786 entries, 0 to 100000\n",
      "Data columns (total 17 columns):\n",
      " #   Column                        Non-Null Count  Dtype  \n",
      "---  ------                        --------------  -----  \n",
      " 0   Loan Status                   89785 non-null  object \n",
      " 1   Current Loan Amount           89785 non-null  float64\n",
      " 2   Term                          89785 non-null  object \n",
      " 3   Credit Score                  70631 non-null  object \n",
      " 4   Annual Income                 89786 non-null  float64\n",
      " 5   Years in current job          89786 non-null  float64\n",
      " 6   Home Ownership                89785 non-null  object \n",
      " 7   Purpose                       89785 non-null  object \n",
      " 8   Monthly Debt                  89785 non-null  float64\n",
      " 9   Years of Credit History       89785 non-null  float64\n",
      " 10  Months since last delinquent  41448 non-null  float64\n",
      " 11  Number of Open Accounts       89785 non-null  float64\n",
      " 12  Number of Credit Problems     89785 non-null  float64\n",
      " 13  Current Credit Balance        89785 non-null  float64\n",
      " 14  Maximum Open Credit           89783 non-null  float64\n",
      " 15  Bankruptcies                  89595 non-null  float64\n",
      " 16  Tax Liens                     89776 non-null  float64\n",
      "dtypes: float64(12), object(5)\n",
      "memory usage: 14.3+ MB\n"
     ]
    }
   ],
   "source": [
    "credit.info()"
   ]
  },
  {
   "cell_type": "code",
   "execution_count": 70,
   "id": "cd88b19c",
   "metadata": {
    "scrolled": true
   },
   "outputs": [
    {
     "data": {
      "image/png": "[encoded data removed]",
      "text/plain": [
       "<Figure size 1080x576 with 1 Axes>"
      ]
     },
     "metadata": {
      "needs_background": "light"
     },
     "output_type": "display_data"
    }
   ],
   "source": [
    "plt.figure(figsize=(15,8))\n",
    "sns.countplot(x='Home Ownership',data=credit,hue='Loan Status')\n",
    "plt.title('Own Property vs Loan Status',fontdict={'fontsize':20})\n",
    "plt.show()"
   ]
  },
  {
   "cell_type": "markdown",
   "id": "42137cb1",
   "metadata": {},
   "source": [
    "This Visual compare the \"Home Ownership\" categories with the \"Loan Status\" categories in the \"credit\" DataFrame. It provides insights into the distribution of loan statuses based on different home ownership categories."
   ]
  }
 ],
 "metadata": {
  "kernelspec": {
   "display_name": "Python 3 (ipykernel)",
   "language": "python",
   "name": "python3"
  },
  "language_info": {
   "codemirror_mode": {
    "name": "ipython",
    "version": 3
   },
   "file_extension": ".py",
   "mimetype": "text/x-python",
   "name": "python",
   "nbconvert_exporter": "python",
   "pygments_lexer": "ipython3",
   "version": "3.9.7"
  }
 },
 "nbformat": 4,
 "nbformat_minor": 5
}
